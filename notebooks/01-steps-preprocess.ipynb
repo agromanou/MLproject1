{
 "cells": [
  {
   "cell_type": "code",
   "execution_count": 2,
   "metadata": {},
   "outputs": [],
   "source": [
    "# PATHS\n",
    "DATA_TRAIN_PATH = \"./../data/raw/train.csv\"\n",
    "DATA_TEST_PATH = \"./../data/raw/test.csv\" \n",
    "OUTPUT_PATH = './../results/predictions/oct2_paola.csv'"
   ]
  },
  {
   "cell_type": "code",
   "execution_count": 53,
   "metadata": {},
   "outputs": [
    {
     "name": "stdout",
     "output_type": "stream",
     "text": [
      "The autoreload extension is already loaded. To reload it, use:\n",
      "  %reload_ext autoreload\n",
      "The autoreload extension is already loaded. To reload it, use:\n",
      "  %reload_ext autoreload\n"
     ]
    }
   ],
   "source": [
    "# Useful starting lines\n",
    "%matplotlib inline\n",
    "import numpy as np\n",
    "import matplotlib.pyplot as plt\n",
    "%load_ext autoreload\n",
    "%autoreload 2\n",
    "\n",
    "import sys\n",
    "sys.path.append('./../src/')\n",
    "%load_ext autoreload\n",
    "%autoreload 2"
   ]
  },
  {
   "cell_type": "code",
   "execution_count": 54,
   "metadata": {},
   "outputs": [],
   "source": [
    "from implementations import *\n",
    "from utils import *\n",
    "from pipeline import * \n",
    "from proj1_helpers import * "
   ]
  },
  {
   "cell_type": "markdown",
   "metadata": {},
   "source": [
    "## Load Data"
   ]
  },
  {
   "cell_type": "code",
   "execution_count": 6,
   "metadata": {},
   "outputs": [],
   "source": [
    "y, tX, ids = load_csv_data(DATA_TRAIN_PATH)"
   ]
  },
  {
   "cell_type": "code",
   "execution_count": 7,
   "metadata": {},
   "outputs": [
    {
     "name": "stdout",
     "output_type": "stream",
     "text": [
      "(250000,)\n",
      "(250000, 30)\n",
      "(250000,)\n"
     ]
    }
   ],
   "source": [
    "print(y.shape)\n",
    "print(tX.shape)\n",
    "print(ids.shape)"
   ]
  },
  {
   "cell_type": "code",
   "execution_count": 8,
   "metadata": {},
   "outputs": [
    {
     "data": {
      "text/plain": [
       "250000"
      ]
     },
     "execution_count": 8,
     "metadata": {},
     "output_type": "execute_result"
    }
   ],
   "source": [
    "len(tX[:,22])"
   ]
  },
  {
   "cell_type": "code",
   "execution_count": 9,
   "metadata": {},
   "outputs": [
    {
     "name": "stdout",
     "output_type": "stream",
     "text": [
      "(99913,)\n",
      "(99913, 30)\n"
     ]
    }
   ],
   "source": [
    "inds = np.where(tX[:,22]==0)\n",
    "tX1 = tX[inds] \n",
    "y1 = y[inds]\n",
    "\n",
    "print(y1.shape)\n",
    "print(tX1.shape)"
   ]
  },
  {
   "cell_type": "code",
   "execution_count": 10,
   "metadata": {},
   "outputs": [
    {
     "data": {
      "text/plain": [
       "0.0"
      ]
     },
     "execution_count": 10,
     "metadata": {},
     "output_type": "execute_result"
    }
   ],
   "source": [
    "sum(tX1[:,22])"
   ]
  },
  {
   "cell_type": "code",
   "execution_count": 11,
   "metadata": {},
   "outputs": [
    {
     "name": "stdout",
     "output_type": "stream",
     "text": [
      "(89922, 30)\n",
      "(9991, 30)\n"
     ]
    }
   ],
   "source": [
    "tX_test,tX_train, y_train, y_test = split_data(tX1, y1, 0.1, myseed=1)\n",
    "print(tX_train.shape)\n",
    "print(tX_test.shape)"
   ]
  },
  {
   "cell_type": "code",
   "execution_count": 12,
   "metadata": {},
   "outputs": [
    {
     "data": {
      "text/plain": [
       "0.0"
      ]
     },
     "execution_count": 12,
     "metadata": {},
     "output_type": "execute_result"
    }
   ],
   "source": [
    "sum(tX_test[:,22])"
   ]
  },
  {
   "cell_type": "code",
   "execution_count": 13,
   "metadata": {},
   "outputs": [
    {
     "data": {
      "text/plain": [
       "0.0"
      ]
     },
     "execution_count": 13,
     "metadata": {},
     "output_type": "execute_result"
    }
   ],
   "source": [
    "sum(tX_train[:,22])"
   ]
  },
  {
   "cell_type": "code",
   "execution_count": 14,
   "metadata": {},
   "outputs": [
    {
     "name": "stdout",
     "output_type": "stream",
     "text": [
      "[[ 136.913   63.748   85.951 ... -999.    -999.       0.   ]\n",
      " [ 159.462   80.405  119.097 ... -999.    -999.       0.   ]\n",
      " [ 184.4     78.15   137.695 ... -999.    -999.       0.   ]\n",
      " ...\n",
      " [-999.     120.753   75.769 ... -999.    -999.       0.   ]\n",
      " [  76.375   52.105   63.356 ... -999.    -999.       0.   ]\n",
      " [  99.464   18.05    62.568 ... -999.    -999.       0.   ]]\n",
      "[[ 117.325    6.402   83.105 ... -999.    -999.       0.   ]\n",
      " [ 262.778   81.156  151.688 ... -999.    -999.       0.   ]\n",
      " [-999.      71.33    53.402 ... -999.    -999.       0.   ]\n",
      " ...\n",
      " [  97.921   57.882   73.421 ... -999.    -999.       0.   ]\n",
      " [ 151.648    3.506   96.321 ... -999.    -999.       0.   ]\n",
      " [ 115.168   52.109   93.168 ... -999.    -999.       0.   ]]\n"
     ]
    }
   ],
   "source": [
    "print(tX_train)\n",
    "print(tX_test)"
   ]
  },
  {
   "cell_type": "markdown",
   "metadata": {},
   "source": [
    "# Pre-processing starts\n",
    "\n",
    "We'll analyze the training set nbut the same things will be done to the testing set"
   ]
  },
  {
   "cell_type": "markdown",
   "metadata": {},
   "source": [
    "## Fix missings"
   ]
  },
  {
   "cell_type": "code",
   "execution_count": 20,
   "metadata": {},
   "outputs": [
    {
     "data": {
      "text/plain": [
       "922730"
      ]
     },
     "execution_count": 20,
     "metadata": {},
     "output_type": "execute_result"
    }
   ],
   "source": [
    "len(np.where(tX_train == -999)[1])"
   ]
  },
  {
   "cell_type": "code",
   "execution_count": 21,
   "metadata": {},
   "outputs": [],
   "source": [
    "tX_train = fix_missings(tX_train)"
   ]
  },
  {
   "cell_type": "code",
   "execution_count": 22,
   "metadata": {},
   "outputs": [
    {
     "data": {
      "text/plain": [
       "0"
      ]
     },
     "execution_count": 22,
     "metadata": {},
     "output_type": "execute_result"
    }
   ],
   "source": [
    "len(np.where(tX_train == -999)[1])"
   ]
  },
  {
   "cell_type": "markdown",
   "metadata": {},
   "source": [
    "## Remove empty features"
   ]
  },
  {
   "cell_type": "code",
   "execution_count": 23,
   "metadata": {},
   "outputs": [
    {
     "data": {
      "text/plain": [
       "(89922, 30)"
      ]
     },
     "execution_count": 23,
     "metadata": {},
     "output_type": "execute_result"
    }
   ],
   "source": [
    "tX_train.shape"
   ]
  },
  {
   "cell_type": "code",
   "execution_count": 24,
   "metadata": {},
   "outputs": [],
   "source": [
    "tX_train = remove_empty_features(tX_train)"
   ]
  },
  {
   "cell_type": "code",
   "execution_count": 25,
   "metadata": {},
   "outputs": [
    {
     "data": {
      "text/plain": [
       "(89922, 20)"
      ]
     },
     "execution_count": 25,
     "metadata": {},
     "output_type": "execute_result"
    }
   ],
   "source": [
    "tX_train.shape"
   ]
  },
  {
   "cell_type": "markdown",
   "metadata": {},
   "source": [
    "## Remove constant columns"
   ]
  },
  {
   "cell_type": "code",
   "execution_count": 26,
   "metadata": {},
   "outputs": [
    {
     "data": {
      "text/plain": [
       "(89922, 20)"
      ]
     },
     "execution_count": 26,
     "metadata": {},
     "output_type": "execute_result"
    }
   ],
   "source": [
    "tX_train.shape"
   ]
  },
  {
   "cell_type": "code",
   "execution_count": 27,
   "metadata": {},
   "outputs": [],
   "source": [
    "# Our own transformer. fit\n",
    "col_std = np.nanstd(tX_train, axis=0)\n",
    "constant_ind = np.where(col_std==0)[0]\n",
    "\n",
    "tX_train = remove_constant_features(tX_train, constant_ind)"
   ]
  },
  {
   "cell_type": "code",
   "execution_count": 28,
   "metadata": {},
   "outputs": [
    {
     "data": {
      "text/plain": [
       "(89922, 18)"
      ]
     },
     "execution_count": 28,
     "metadata": {},
     "output_type": "execute_result"
    }
   ],
   "source": [
    "tX_train.shape"
   ]
  },
  {
   "cell_type": "markdown",
   "metadata": {},
   "source": [
    "##  Outliers"
   ]
  },
  {
   "cell_type": "code",
   "execution_count": 32,
   "metadata": {},
   "outputs": [
    {
     "data": {
      "text/plain": [
       "{'whiskers': [<matplotlib.lines.Line2D at 0x7fa96ec35f70>,\n",
       "  <matplotlib.lines.Line2D at 0x7fa96ec43310>],\n",
       " 'caps': [<matplotlib.lines.Line2D at 0x7fa96ec43670>,\n",
       "  <matplotlib.lines.Line2D at 0x7fa96ec439d0>],\n",
       " 'boxes': [<matplotlib.lines.Line2D at 0x7fa96ec35c10>],\n",
       " 'medians': [<matplotlib.lines.Line2D at 0x7fa96ec43d30>],\n",
       " 'fliers': [<matplotlib.lines.Line2D at 0x7fa96ec4e070>],\n",
       " 'means': []}"
      ]
     },
     "execution_count": 32,
     "metadata": {},
     "output_type": "execute_result"
    },
    {
     "data": {
      "image/png": "[encoded data removed]",
      "text/plain": [
       "<Figure size 432x288 with 1 Axes>"
      ]
     },
     "metadata": {
      "needs_background": "light"
     },
     "output_type": "display_data"
    }
   ],
   "source": [
    "plt.boxplot(tX_train[:,1])"
   ]
  },
  {
   "cell_type": "code",
   "execution_count": 33,
   "metadata": {},
   "outputs": [
    {
     "data": {
      "text/plain": [
       "(array([3.9730e+04, 4.7566e+04, 2.3050e+03, 2.1900e+02, 6.2000e+01,\n",
       "        2.1000e+01, 9.0000e+00, 8.0000e+00, 0.0000e+00, 2.0000e+00]),\n",
       " array([2.000000e-03, 5.701330e+01, 1.140246e+02, 1.710359e+02,\n",
       "        2.280472e+02, 2.850585e+02, 3.420698e+02, 3.990811e+02,\n",
       "        4.560924e+02, 5.131037e+02, 5.701150e+02]),\n",
       " <a list of 10 Patch objects>)"
      ]
     },
     "execution_count": 33,
     "metadata": {},
     "output_type": "execute_result"
    },
    {
     "data": {
      "image/png": "[encoded data removed]",
      "text/plain": [
       "<Figure size 432x288 with 1 Axes>"
      ]
     },
     "metadata": {
      "needs_background": "light"
     },
     "output_type": "display_data"
    }
   ],
   "source": [
    "plt.hist(tX_train[:,1])"
   ]
  },
  {
   "cell_type": "code",
   "execution_count": 34,
   "metadata": {},
   "outputs": [],
   "source": [
    "# Robust standarization & outliers\n",
    "q1= np.nanpercentile(tX_train, q = 25, axis=0)\n",
    "median =  np.nanpercentile(tX_train, q = 50, axis=0)\n",
    "q3 =  np.nanpercentile(tX_train, q = 75, axis=0)\n",
    "IQR = q3 - q1\n",
    "\n",
    "tX_train = replace_outliers(tX_train, q1,q3,IQR)"
   ]
  },
  {
   "cell_type": "code",
   "execution_count": 35,
   "metadata": {},
   "outputs": [
    {
     "data": {
      "text/plain": [
       "{'whiskers': [<matplotlib.lines.Line2D at 0x7fa97cd33be0>,\n",
       "  <matplotlib.lines.Line2D at 0x7fa97cd33f40>],\n",
       " 'caps': [<matplotlib.lines.Line2D at 0x7fa97cd3e2e0>,\n",
       "  <matplotlib.lines.Line2D at 0x7fa97cd3e640>],\n",
       " 'boxes': [<matplotlib.lines.Line2D at 0x7fa97cd33880>],\n",
       " 'medians': [<matplotlib.lines.Line2D at 0x7fa97cd3e9a0>],\n",
       " 'fliers': [<matplotlib.lines.Line2D at 0x7fa97cd3eca0>],\n",
       " 'means': []}"
      ]
     },
     "execution_count": 35,
     "metadata": {},
     "output_type": "execute_result"
    },
    {
     "data": {
      "image/png": "[encoded data removed]",
      "text/plain": [
       "<Figure size 432x288 with 1 Axes>"
      ]
     },
     "metadata": {
      "needs_background": "light"
     },
     "output_type": "display_data"
    }
   ],
   "source": [
    "plt.boxplot(tX_train[:,1])"
   ]
  },
  {
   "cell_type": "code",
   "execution_count": 36,
   "metadata": {},
   "outputs": [
    {
     "data": {
      "text/plain": [
       "(array([ 9605.,  9034., 10236., 12434., 17544., 17598.,  8282.,  3047.,\n",
       "         1090.,  1052.]),\n",
       " array([2.00000000e-03, 1.46663375e+01, 2.93306750e+01, 4.39950125e+01,\n",
       "        5.86593500e+01, 7.33236875e+01, 8.79880250e+01, 1.02652362e+02,\n",
       "        1.17316700e+02, 1.31981037e+02, 1.46645375e+02]),\n",
       " <a list of 10 Patch objects>)"
      ]
     },
     "execution_count": 36,
     "metadata": {},
     "output_type": "execute_result"
    },
    {
     "data": {
      "image/png": "[encoded data removed]",
      "text/plain": [
       "<Figure size 432x288 with 1 Axes>"
      ]
     },
     "metadata": {
      "needs_background": "light"
     },
     "output_type": "display_data"
    }
   ],
   "source": [
    "plt.hist(tX_train[:,1])"
   ]
  },
  {
   "cell_type": "markdown",
   "metadata": {},
   "source": [
    "## Standarization"
   ]
  },
  {
   "cell_type": "code",
   "execution_count": 37,
   "metadata": {},
   "outputs": [],
   "source": [
    "tX_train = standardize_robust(tX_train, median, IQR)"
   ]
  },
  {
   "cell_type": "code",
   "execution_count": 38,
   "metadata": {},
   "outputs": [
    {
     "data": {
      "text/plain": [
       "{'whiskers': [<matplotlib.lines.Line2D at 0x7fa971ae36d0>,\n",
       "  <matplotlib.lines.Line2D at 0x7fa971aeecd0>],\n",
       " 'caps': [<matplotlib.lines.Line2D at 0x7fa971aeef10>,\n",
       "  <matplotlib.lines.Line2D at 0x7fa971aee880>],\n",
       " 'boxes': [<matplotlib.lines.Line2D at 0x7fa971ae3730>],\n",
       " 'medians': [<matplotlib.lines.Line2D at 0x7fa971aee100>],\n",
       " 'fliers': [<matplotlib.lines.Line2D at 0x7fa971aee490>],\n",
       " 'means': []}"
      ]
     },
     "execution_count": 38,
     "metadata": {},
     "output_type": "execute_result"
    },
    {
     "data": {
      "image/png": "[encoded data removed]",
      "text/plain": [
       "<Figure size 432x288 with 1 Axes>"
      ]
     },
     "metadata": {
      "needs_background": "light"
     },
     "output_type": "display_data"
    }
   ],
   "source": [
    "plt.boxplot(tX_train[:,1])"
   ]
  },
  {
   "cell_type": "code",
   "execution_count": 39,
   "metadata": {},
   "outputs": [
    {
     "data": {
      "text/plain": [
       "(array([ 9605.,  9034., 10236., 12434., 17544., 17598.,  8282.,  3047.,\n",
       "         1090.,  1052.]),\n",
       " array([-1.39023066, -1.06191418, -0.73359771, -0.40528123, -0.07696475,\n",
       "         0.25135172,  0.5796682 ,  0.90798467,  1.23630115,  1.56461763,\n",
       "         1.8929341 ]),\n",
       " <a list of 10 Patch objects>)"
      ]
     },
     "execution_count": 39,
     "metadata": {},
     "output_type": "execute_result"
    },
    {
     "data": {
      "image/png": "[encoded data removed]",
      "text/plain": [
       "<Figure size 432x288 with 1 Axes>"
      ]
     },
     "metadata": {
      "needs_background": "light"
     },
     "output_type": "display_data"
    }
   ],
   "source": [
    "plt.hist(tX_train[:,1])"
   ]
  },
  {
   "cell_type": "markdown",
   "metadata": {},
   "source": [
    "## Treat missings"
   ]
  },
  {
   "cell_type": "code",
   "execution_count": 44,
   "metadata": {},
   "outputs": [
    {
     "data": {
      "text/plain": [
       "23510"
      ]
     },
     "execution_count": 44,
     "metadata": {},
     "output_type": "execute_result"
    }
   ],
   "source": [
    "len(np.where(np.isnan(tX_train))[0])"
   ]
  },
  {
   "cell_type": "code",
   "execution_count": 45,
   "metadata": {},
   "outputs": [],
   "source": [
    "tX_train, tX_train_imputed  = treat_missings(tX_train)"
   ]
  },
  {
   "cell_type": "code",
   "execution_count": 46,
   "metadata": {},
   "outputs": [
    {
     "data": {
      "text/plain": [
       "0"
      ]
     },
     "execution_count": 46,
     "metadata": {},
     "output_type": "execute_result"
    }
   ],
   "source": [
    "len(np.where(np.isnan(tX_train))[0])"
   ]
  },
  {
   "cell_type": "markdown",
   "metadata": {},
   "source": [
    "## All together"
   ]
  },
  {
   "cell_type": "code",
   "execution_count": 55,
   "metadata": {},
   "outputs": [
    {
     "name": "stdout",
     "output_type": "stream",
     "text": [
      "(89922, 30)\n",
      "(9991, 30)\n"
     ]
    }
   ],
   "source": [
    "tX_test,tX_train, y_train, y_test = split_data(tX1, y1, 0.1, myseed=1)\n",
    "print(tX_train.shape)\n",
    "print(tX_test.shape)"
   ]
  },
  {
   "cell_type": "code",
   "execution_count": 56,
   "metadata": {},
   "outputs": [],
   "source": [
    "tX_train, tX_test = preprocess(tX_train, y_train, tX_test)"
   ]
  },
  {
   "cell_type": "code",
   "execution_count": 57,
   "metadata": {},
   "outputs": [
    {
     "name": "stdout",
     "output_type": "stream",
     "text": [
      "(89922, 18)\n",
      "(9991, 18)\n"
     ]
    }
   ],
   "source": [
    "print(tX_train.shape)\n",
    "print(tX_test.shape)"
   ]
  },
  {
   "cell_type": "code",
   "execution_count": 58,
   "metadata": {},
   "outputs": [
    {
     "data": {
      "text/plain": [
       "(array([ 9605.,  9034., 10236., 12434., 17544., 17598.,  8282.,  3047.,\n",
       "         1090.,  1052.]),\n",
       " array([-1.39023066, -1.06191418, -0.73359771, -0.40528123, -0.07696475,\n",
       "         0.25135172,  0.5796682 ,  0.90798467,  1.23630115,  1.56461763,\n",
       "         1.8929341 ]),\n",
       " <a list of 10 Patch objects>)"
      ]
     },
     "execution_count": 58,
     "metadata": {},
     "output_type": "execute_result"
    },
    {
     "data": {
      "image/png": "[encoded data removed]",
      "text/plain": [
       "<Figure size 432x288 with 1 Axes>"
      ]
     },
     "metadata": {
      "needs_background": "light"
     },
     "output_type": "display_data"
    }
   ],
   "source": [
    "plt.hist(tX_train[:,1])"
   ]
  },
  {
   "cell_type": "code",
   "execution_count": 59,
   "metadata": {},
   "outputs": [
    {
     "data": {
      "text/plain": [
       "(array([1090.,  934., 1133., 1395., 1991., 1994.,  902.,  304.,  135.,\n",
       "         113.]),\n",
       " array([-1.39005155, -1.06175298, -0.73345442, -0.40515585, -0.07685729,\n",
       "         0.25144128,  0.57973984,  0.90803841,  1.23633697,  1.56463554,\n",
       "         1.8929341 ]),\n",
       " <a list of 10 Patch objects>)"
      ]
     },
     "execution_count": 59,
     "metadata": {},
     "output_type": "execute_result"
    },
    {
     "data": {
      "image/png": "[encoded data removed]",
      "text/plain": [
       "<Figure size 432x288 with 1 Axes>"
      ]
     },
     "metadata": {
      "needs_background": "light"
     },
     "output_type": "display_data"
    }
   ],
   "source": [
    "plt.hist(tX_test[:,1])"
   ]
  }
 ],
 "metadata": {
  "kernelspec": {
   "display_name": "Python 3",
   "language": "python",
   "name": "python3"
  },
  "language_info": {
   "codemirror_mode": {
    "name": "ipython",
    "version": 3
   },
   "file_extension": ".py",
   "mimetype": "text/x-python",
   "name": "python",
   "nbconvert_exporter": "python",
   "pygments_lexer": "ipython3",
   "version": "3.8.5"
  }
 },
 "nbformat": 4,
 "nbformat_minor": 4
}
