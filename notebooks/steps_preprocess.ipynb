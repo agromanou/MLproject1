{
 "cells": [
  {
   "cell_type": "code",
   "execution_count": 1,
   "metadata": {},
   "outputs": [],
   "source": [
    "# PATHS\n",
    "DATA_TRAIN_PATH = \"./../data/raw/train.csv\"\n",
    "DATA_TEST_PATH = \"./../data/raw/test.csv\" \n",
    "OUTPUT_PATH = './../results/predictions/oct2_paola.csv'"
   ]
  },
  {
   "cell_type": "code",
   "execution_count": 2,
   "metadata": {},
   "outputs": [
    {
     "name": "stdout",
     "output_type": "stream",
     "text": [
      "The autoreload extension is already loaded. To reload it, use:\n",
      "  %reload_ext autoreload\n"
     ]
    }
   ],
   "source": [
    "# Useful starting lines\n",
    "%matplotlib inline\n",
    "import numpy as np\n",
    "import matplotlib.pyplot as plt\n",
    "%load_ext autoreload\n",
    "%autoreload 2\n",
    "\n",
    "import sys\n",
    "sys.path.append('./../src/')\n",
    "%load_ext autoreload\n",
    "%autoreload 2"
   ]
  },
  {
   "cell_type": "code",
   "execution_count": 3,
   "metadata": {},
   "outputs": [],
   "source": [
    "from implementations import *\n",
    "from utils import *\n",
    "from pipeline import * \n",
    "from proj1_helpers import * "
   ]
  },
  {
   "cell_type": "code",
   "execution_count": 4,
   "metadata": {},
   "outputs": [],
   "source": [
    "y, tX, ids = load_csv_data(DATA_TRAIN_PATH)"
   ]
  },
  {
   "cell_type": "code",
   "execution_count": 5,
   "metadata": {},
   "outputs": [
    {
     "name": "stdout",
     "output_type": "stream",
     "text": [
      "(250000,)\n",
      "(250000, 30)\n",
      "(250000,)\n"
     ]
    }
   ],
   "source": [
    "print(y.shape)\n",
    "print(tX.shape)\n",
    "print(ids.shape)"
   ]
  },
  {
   "cell_type": "code",
   "execution_count": 6,
   "metadata": {},
   "outputs": [
    {
     "data": {
      "text/plain": [
       "250000"
      ]
     },
     "execution_count": 6,
     "metadata": {},
     "output_type": "execute_result"
    }
   ],
   "source": [
    "len(tX[:,22])"
   ]
  },
  {
   "cell_type": "code",
   "execution_count": 7,
   "metadata": {},
   "outputs": [
    {
     "name": "stdout",
     "output_type": "stream",
     "text": [
      "(99913,)\n",
      "(99913, 30)\n"
     ]
    }
   ],
   "source": [
    "inds = np.where(tX[:,22]==0)\n",
    "tX1 = tX[inds] \n",
    "y1 = y[inds]\n",
    "\n",
    "print(y1.shape)\n",
    "print(tX1.shape)"
   ]
  },
  {
   "cell_type": "code",
   "execution_count": 8,
   "metadata": {},
   "outputs": [
    {
     "data": {
      "text/plain": [
       "0.0"
      ]
     },
     "execution_count": 8,
     "metadata": {},
     "output_type": "execute_result"
    }
   ],
   "source": [
    "sum(tX1[:,22])"
   ]
  },
  {
   "cell_type": "code",
   "execution_count": 9,
   "metadata": {},
   "outputs": [
    {
     "name": "stdout",
     "output_type": "stream",
     "text": [
      "(89922, 30)\n",
      "(9991, 30)\n"
     ]
    }
   ],
   "source": [
    "tX_test,tX_train, y_train, y_test = split_data(tX1, y1, 0.1, myseed=1)\n",
    "print(tX_train.shape)\n",
    "print(tX_test.shape)"
   ]
  },
  {
   "cell_type": "code",
   "execution_count": 10,
   "metadata": {},
   "outputs": [
    {
     "data": {
      "text/plain": [
       "0.0"
      ]
     },
     "execution_count": 10,
     "metadata": {},
     "output_type": "execute_result"
    }
   ],
   "source": [
    "sum(tX_test[:,22])"
   ]
  },
  {
   "cell_type": "code",
   "execution_count": 11,
   "metadata": {},
   "outputs": [
    {
     "data": {
      "text/plain": [
       "0.0"
      ]
     },
     "execution_count": 11,
     "metadata": {},
     "output_type": "execute_result"
    }
   ],
   "source": [
    "sum(tX_train[:,22])"
   ]
  },
  {
   "cell_type": "code",
   "execution_count": 363,
   "metadata": {},
   "outputs": [
    {
     "name": "stdout",
     "output_type": "stream",
     "text": [
      "[[ 136.913   63.748   85.951 ... -999.    -999.       0.   ]\n",
      " [ 159.462   80.405  119.097 ... -999.    -999.       0.   ]\n",
      " [ 184.4     78.15   137.695 ... -999.    -999.       0.   ]\n",
      " ...\n",
      " [-999.     120.753   75.769 ... -999.    -999.       0.   ]\n",
      " [  76.375   52.105   63.356 ... -999.    -999.       0.   ]\n",
      " [  99.464   18.05    62.568 ... -999.    -999.       0.   ]]\n",
      "[[ 117.325    6.402   83.105 ... -999.    -999.       0.   ]\n",
      " [ 262.778   81.156  151.688 ... -999.    -999.       0.   ]\n",
      " [-999.      71.33    53.402 ... -999.    -999.       0.   ]\n",
      " ...\n",
      " [  97.921   57.882   73.421 ... -999.    -999.       0.   ]\n",
      " [ 151.648    3.506   96.321 ... -999.    -999.       0.   ]\n",
      " [ 115.168   52.109   93.168 ... -999.    -999.       0.   ]]\n"
     ]
    }
   ],
   "source": [
    "print(tX_train)\n",
    "print(tX_test)"
   ]
  },
  {
   "cell_type": "code",
   "execution_count": 364,
   "metadata": {},
   "outputs": [],
   "source": [
    "tX_train = np.where(tX_train == -999, np.NaN, tX_train)\n",
    "tX_test = np.where(tX_test == -999, np.NaN, tX_test)"
   ]
  },
  {
   "cell_type": "code",
   "execution_count": 365,
   "metadata": {},
   "outputs": [
    {
     "name": "stdout",
     "output_type": "stream",
     "text": [
      "[[136.913  63.748  85.951 ...     nan     nan   0.   ]\n",
      " [159.462  80.405 119.097 ...     nan     nan   0.   ]\n",
      " [184.4    78.15  137.695 ...     nan     nan   0.   ]\n",
      " ...\n",
      " [    nan 120.753  75.769 ...     nan     nan   0.   ]\n",
      " [ 76.375  52.105  63.356 ...     nan     nan   0.   ]\n",
      " [ 99.464  18.05   62.568 ...     nan     nan   0.   ]]\n",
      "[[117.325   6.402  83.105 ...     nan     nan   0.   ]\n",
      " [262.778  81.156 151.688 ...     nan     nan   0.   ]\n",
      " [    nan  71.33   53.402 ...     nan     nan   0.   ]\n",
      " ...\n",
      " [ 97.921  57.882  73.421 ...     nan     nan   0.   ]\n",
      " [151.648   3.506  96.321 ...     nan     nan   0.   ]\n",
      " [115.168  52.109  93.168 ...     nan     nan   0.   ]]\n"
     ]
    }
   ],
   "source": [
    "print(tX_train)\n",
    "print(tX_test)"
   ]
  },
  {
   "cell_type": "code",
   "execution_count": 366,
   "metadata": {},
   "outputs": [
    {
     "data": {
      "text/plain": [
       "{'whiskers': [<matplotlib.lines.Line2D at 0x7fcb080792b0>,\n",
       "  <matplotlib.lines.Line2D at 0x7fcb0804c4c0>],\n",
       " 'caps': [<matplotlib.lines.Line2D at 0x7fcb07c49c40>,\n",
       "  <matplotlib.lines.Line2D at 0x7fcb07c495e0>],\n",
       " 'boxes': [<matplotlib.lines.Line2D at 0x7fcb07cae610>],\n",
       " 'medians': [<matplotlib.lines.Line2D at 0x7fcb07c49820>],\n",
       " 'fliers': [<matplotlib.lines.Line2D at 0x7fcb07c4e5e0>],\n",
       " 'means': []}"
      ]
     },
     "execution_count": 366,
     "metadata": {},
     "output_type": "execute_result"
    },
    {
     "data": {
      "image/png": "[encoded data removed]",
      "text/plain": [
       "<Figure size 432x288 with 1 Axes>"
      ]
     },
     "metadata": {
      "needs_background": "light"
     },
     "output_type": "display_data"
    }
   ],
   "source": [
    "plt.boxplot(tX_train[:,1])"
   ]
  },
  {
   "cell_type": "code",
   "execution_count": 367,
   "metadata": {},
   "outputs": [
    {
     "name": "stdout",
     "output_type": "stream",
     "text": [
      "[51.7412369  32.03604052 38.15808953 16.92445208         nan         nan\n",
      "         nan  0.69313342 16.92445204 23.66323135  0.58121085  0.93840024\n",
      "         nan 15.28909605  1.23272496  1.8175161  14.61098366  1.31008107\n",
      "  1.81697987 20.54405454  1.81198349 53.19052523  0.                 nan\n",
      "         nan         nan         nan         nan         nan  0.        ]\n",
      "(30,)\n"
     ]
    },
    {
     "name": "stderr",
     "output_type": "stream",
     "text": [
      "/usr/lib/python3.8/site-packages/numpy/lib/nanfunctions.py:1664: RuntimeWarning: Degrees of freedom <= 0 for slice.\n",
      "  var = nanvar(a, axis=axis, dtype=dtype, out=out, ddof=ddof,\n"
     ]
    }
   ],
   "source": [
    "# Delete columns with no std: meaning they are constants\n",
    "col_std = np.nanstd(tX_train, axis=0)\n",
    "print(col_std)\n",
    "print(col_std.shape)"
   ]
  },
  {
   "cell_type": "code",
   "execution_count": 368,
   "metadata": {},
   "outputs": [
    {
     "data": {
      "text/plain": [
       "array([22, 29])"
      ]
     },
     "execution_count": 368,
     "metadata": {},
     "output_type": "execute_result"
    }
   ],
   "source": [
    "constant_ind = np.where(col_std==0)[0]\n",
    "constant_ind"
   ]
  },
  {
   "cell_type": "code",
   "execution_count": 369,
   "metadata": {},
   "outputs": [
    {
     "name": "stdout",
     "output_type": "stream",
     "text": [
      "(89922, 28)\n",
      "(9991, 28)\n",
      "[0.9398822  0.68248862 0.44528687 0.66640474]\n",
      "[51.7412369  32.03604052 38.15808953 16.92445208         nan         nan\n",
      "         nan  0.69313342 16.92445204 23.66323135  0.58121085  0.93840024\n",
      "         nan 15.28909605  1.23272496  1.8175161  14.61098366  1.31008107\n",
      "  1.81697987 20.54405454  1.81198349 53.19052523         nan         nan\n",
      "         nan         nan         nan         nan]\n",
      "(28,)\n"
     ]
    }
   ],
   "source": [
    "constant_ind = np.where(col_std==0)[0]\n",
    "tX_train = np.delete(tX_train, constant_ind, axis=1)\n",
    "tX_test  = np.delete(tX_test, constant_ind, axis=1)\n",
    "col_std = np.delete(col_std, constant_ind, axis=0)\n",
    "\n",
    "print(tX_train.shape)\n",
    "print(tX_test.shape)\n",
    "print(col_std)\n",
    "print(col_std.shape)"
   ]
  },
  {
   "cell_type": "code",
   "execution_count": 370,
   "metadata": {},
   "outputs": [
    {
     "name": "stdout",
     "output_type": "stream",
     "text": [
      "(89922, 28)\n"
     ]
    }
   ],
   "source": [
    "print(tX_train.shape)"
   ]
  },
  {
   "cell_type": "code",
   "execution_count": 371,
   "metadata": {},
   "outputs": [],
   "source": [
    "tX_train = tX_train[:,~np.all(np.isnan(tX_train), axis=0)]"
   ]
  },
  {
   "cell_type": "code",
   "execution_count": 372,
   "metadata": {},
   "outputs": [
    {
     "name": "stdout",
     "output_type": "stream",
     "text": [
      "(89922, 18)\n"
     ]
    }
   ],
   "source": [
    "print(tX_train.shape)"
   ]
  },
  {
   "cell_type": "code",
   "execution_count": 314,
   "metadata": {},
   "outputs": [
    {
     "data": {
      "text/plain": [
       "0     23510\n",
       "1         0\n",
       "2         0\n",
       "3         0\n",
       "4         0\n",
       "5         0\n",
       "6         0\n",
       "7         0\n",
       "8         0\n",
       "9         0\n",
       "10        0\n",
       "11        0\n",
       "12        0\n",
       "13        0\n",
       "14        0\n",
       "15        0\n",
       "16        0\n",
       "17        0\n",
       "dtype: int64"
      ]
     },
     "execution_count": 314,
     "metadata": {},
     "output_type": "execute_result"
    }
   ],
   "source": [
    "import pandas as pd\n",
    "pd.DataFrame(tX_train).isna().sum()"
   ]
  },
  {
   "cell_type": "code",
   "execution_count": 315,
   "metadata": {},
   "outputs": [
    {
     "name": "stdout",
     "output_type": "stream",
     "text": [
      "(18,)\n",
      "(18,)\n",
      "(18,)\n",
      "(18,)\n"
     ]
    }
   ],
   "source": [
    "# Robust standarization and outliers treatment\n",
    "# https://scikit-learn.org/stable/modules/generated/sklearn.preprocessing.RobustScaler.html\n",
    "q1= np.nanpercentile(tX_train, q = 25, axis=0)\n",
    "median =  np.nanpercentile(tX_train, q = 50, axis=0)\n",
    "q3 =  np.nanpercentile(tX_train, q = 75, axis=0)\n",
    "IQR = q3 - q1\n",
    "\n",
    "print(q1.shape)\n",
    "print(median.shape)\n",
    "print(q3.shape)\n",
    "print(IQR.shape)"
   ]
  },
  {
   "cell_type": "code",
   "execution_count": 348,
   "metadata": {},
   "outputs": [],
   "source": [
    "outliers = np.where(tX_train > q3*1.5)"
   ]
  },
  {
   "cell_type": "code",
   "execution_count": 350,
   "metadata": {},
   "outputs": [],
   "source": [
    "tX_train[outliers] = np.take(q3*1.5, outliers[1]) "
   ]
  },
  {
   "cell_type": "code",
   "execution_count": 351,
   "metadata": {},
   "outputs": [
    {
     "data": {
      "text/plain": [
       "(array([ 7982.,  7271.,  7838.,  8682., 10678., 14163., 15530.,  9623.,\n",
       "         4274.,  3881.]),\n",
       " array([2.00000000e-03, 1.19489250e+01, 2.38958500e+01, 3.58427750e+01,\n",
       "        4.77897000e+01, 5.97366250e+01, 7.16835500e+01, 8.36304750e+01,\n",
       "        9.55774000e+01, 1.07524325e+02, 1.19471250e+02]),\n",
       " <a list of 10 Patch objects>)"
      ]
     },
     "execution_count": 351,
     "metadata": {},
     "output_type": "execute_result"
    },
    {
     "data": {
      "image/png": "[encoded data removed]",
      "text/plain": [
       "<Figure size 432x288 with 1 Axes>"
      ]
     },
     "metadata": {
      "needs_background": "light"
     },
     "output_type": "display_data"
    }
   ],
   "source": [
    "plt.hist(tX_train[:,1])"
   ]
  },
  {
   "cell_type": "code",
   "execution_count": 347,
   "metadata": {},
   "outputs": [
    {
     "data": {
      "text/plain": [
       "(array([3.9730e+04, 4.7566e+04, 2.3050e+03, 2.1900e+02, 6.2000e+01,\n",
       "        2.1000e+01, 9.0000e+00, 8.0000e+00, 0.0000e+00, 2.0000e+00]),\n",
       " array([2.000000e-03, 5.701330e+01, 1.140246e+02, 1.710359e+02,\n",
       "        2.280472e+02, 2.850585e+02, 3.420698e+02, 3.990811e+02,\n",
       "        4.560924e+02, 5.131037e+02, 5.701150e+02]),\n",
       " <a list of 10 Patch objects>)"
      ]
     },
     "execution_count": 347,
     "metadata": {},
     "output_type": "execute_result"
    },
    {
     "data": {
      "image/png": "[encoded data removed]",
      "text/plain": [
       "<Figure size 432x288 with 1 Axes>"
      ]
     },
     "metadata": {
      "needs_background": "light"
     },
     "output_type": "display_data"
    }
   ],
   "source": [
    "plt.hist(tX_train[:,1])"
   ]
  },
  {
   "cell_type": "code",
   "execution_count": 346,
   "metadata": {},
   "outputs": [
    {
     "data": {
      "text/plain": [
       "(array([8.8713e+04, 9.3700e+02, 1.6800e+02, 6.1000e+01, 1.8000e+01,\n",
       "        1.3000e+01, 7.0000e+00, 3.0000e+00, 0.0000e+00, 2.0000e+00]),\n",
       " array([ 79.6475 , 128.69425, 177.741  , 226.78775, 275.8345 , 324.88125,\n",
       "        373.928  , 422.97475, 472.0215 , 521.06825, 570.115  ]),\n",
       " <a list of 10 Patch objects>)"
      ]
     },
     "execution_count": 346,
     "metadata": {},
     "output_type": "execute_result"
    },
    {
     "data": {
      "image/png": "[encoded data removed]",
      "text/plain": [
       "<Figure size 432x288 with 1 Axes>"
      ]
     },
     "metadata": {
      "needs_background": "light"
     },
     "output_type": "display_data"
    }
   ],
   "source": [
    "plt.hist(outliers[:,1])"
   ]
  },
  {
   "cell_type": "code",
   "execution_count": null,
   "metadata": {},
   "outputs": [],
   "source": [
    "\n",
    "outliers = np.where(tX_train > q3*1.5, tX_train, q3)\n",
    "\n",
    "robust = (tX_train - median)/IQR"
   ]
  },
  {
   "cell_type": "code",
   "execution_count": 374,
   "metadata": {},
   "outputs": [
    {
     "data": {
      "text/plain": [
       "array([ 1.113655e+02,  6.209700e+01,  7.551550e+01,  6.679000e+00,\n",
       "        2.823000e+00,  6.679000e+00,  7.158600e+01,  1.318000e+00,\n",
       "       -1.364000e+00,  2.932600e+01, -4.300000e-02, -4.500000e-02,\n",
       "        3.896900e+01, -1.020000e-01,  8.500000e-02,  2.954500e+01,\n",
       "       -4.650000e-02,  1.195000e+02])"
      ]
     },
     "execution_count": 374,
     "metadata": {},
     "output_type": "execute_result"
    }
   ],
   "source": [
    "median"
   ]
  },
  {
   "cell_type": "code",
   "execution_count": 373,
   "metadata": {},
   "outputs": [
    {
     "data": {
      "text/plain": [
       "array([[ 0.54297176,  0.03696386,  0.31487712, ..., -0.34358583,\n",
       "        -0.71485623, -0.44039925],\n",
       "       [ 1.02221514,  0.4098936 ,  1.3150129 , ..., -0.08001483,\n",
       "         0.78290735,  0.30674233],\n",
       "       [ 1.55223294,  0.35940692,  1.87618243, ..., -0.04532251,\n",
       "         0.20686901, -1.02860062],\n",
       "       ...,\n",
       "       [        nan,  1.31323568,  0.00764902, ...,  2.57724398,\n",
       "         0.69952077,  0.54026239],\n",
       "       [-0.74366781, -0.22370859, -0.36689649, ..., -0.41412414,\n",
       "         0.20782748, -0.75832345],\n",
       "       [-0.25294758, -0.98615814, -0.39067332, ...,  0.37444634,\n",
       "        -0.27811502,  1.75883802]])"
      ]
     },
     "execution_count": 373,
     "metadata": {},
     "output_type": "execute_result"
    }
   ],
   "source": [
    "robust"
   ]
  },
  {
   "cell_type": "code",
   "execution_count": 336,
   "metadata": {},
   "outputs": [
    {
     "data": {
      "text/plain": [
       "(array([3.9730e+04, 4.7566e+04, 2.3050e+03, 2.1900e+02, 6.2000e+01,\n",
       "        2.1000e+01, 9.0000e+00, 8.0000e+00, 0.0000e+00, 2.0000e+00]),\n",
       " array([2.000000e-03, 5.701330e+01, 1.140246e+02, 1.710359e+02,\n",
       "        2.280472e+02, 2.850585e+02, 3.420698e+02, 3.990811e+02,\n",
       "        4.560924e+02, 5.131037e+02, 5.701150e+02]),\n",
       " <a list of 10 Patch objects>)"
      ]
     },
     "execution_count": 336,
     "metadata": {},
     "output_type": "execute_result"
    },
    {
     "data": {
      "image/png": "[encoded data removed]",
      "text/plain": [
       "<Figure size 432x288 with 1 Axes>"
      ]
     },
     "metadata": {
      "needs_background": "light"
     },
     "output_type": "display_data"
    }
   ],
   "source": [
    "plt.hist(tX_train[:,1])"
   ]
  },
  {
   "cell_type": "code",
   "execution_count": 338,
   "metadata": {},
   "outputs": [
    {
     "data": {
      "text/plain": [
       "570.115"
      ]
     },
     "execution_count": 338,
     "metadata": {},
     "output_type": "execute_result"
    }
   ],
   "source": [
    "max(tX_train[:,1])"
   ]
  },
  {
   "cell_type": "code",
   "execution_count": 339,
   "metadata": {},
   "outputs": [
    {
     "data": {
      "text/plain": [
       "34.98225"
      ]
     },
     "execution_count": 339,
     "metadata": {},
     "output_type": "execute_result"
    }
   ],
   "source": [
    "q1[1]"
   ]
  },
  {
   "cell_type": "code",
   "execution_count": 340,
   "metadata": {},
   "outputs": [
    {
     "data": {
      "text/plain": [
       "62.096999999999994"
      ]
     },
     "execution_count": 340,
     "metadata": {},
     "output_type": "execute_result"
    }
   ],
   "source": [
    "median[1]"
   ]
  },
  {
   "cell_type": "code",
   "execution_count": 341,
   "metadata": {},
   "outputs": [
    {
     "data": {
      "text/plain": [
       "79.6475"
      ]
     },
     "execution_count": 341,
     "metadata": {},
     "output_type": "execute_result"
    }
   ],
   "source": [
    "q3[1]"
   ]
  },
  {
   "cell_type": "code",
   "execution_count": 343,
   "metadata": {},
   "outputs": [
    {
     "data": {
      "text/plain": [
       "array([47.05125, 44.66525, 33.1415 , 21.9265 ,  0.755  , 21.9265 ,\n",
       "       23.96175,  0.759  ,  0.282  , 16.16175,  1.857  ,  3.142  ,\n",
       "       17.139  ,  2.11   ,  3.147  , 24.2705 ,  3.13   , 68.50375])"
      ]
     },
     "execution_count": 343,
     "metadata": {},
     "output_type": "execute_result"
    }
   ],
   "source": [
    "IQR"
   ]
  },
  {
   "cell_type": "code",
   "execution_count": 316,
   "metadata": {},
   "outputs": [
    {
     "name": "stdout",
     "output_type": "stream",
     "text": [
      "(89922, 18)\n"
     ]
    }
   ],
   "source": [
    "robust = (tX_train - median)/IQR\n",
    "\n",
    "print(robust.shape)"
   ]
  },
  {
   "cell_type": "code",
   "execution_count": 342,
   "metadata": {},
   "outputs": [
    {
     "data": {
      "text/plain": [
       "array([ 0.03696386,  0.4098936 ,  0.35940692, ...,  1.31323568,\n",
       "       -0.22370859, -0.98615814])"
      ]
     },
     "execution_count": 342,
     "metadata": {},
     "output_type": "execute_result"
    }
   ],
   "source": [
    "robust[:,1]"
   ]
  },
  {
   "cell_type": "code",
   "execution_count": 344,
   "metadata": {},
   "outputs": [
    {
     "data": {
      "text/plain": [
       "(array([3.9730e+04, 4.7566e+04, 2.3050e+03, 2.1900e+02, 6.2000e+01,\n",
       "        2.1000e+01, 9.0000e+00, 8.0000e+00, 0.0000e+00, 2.0000e+00]),\n",
       " array([-1.39023066, -0.11381779,  1.16259508,  2.43900795,  3.71542082,\n",
       "         4.9918337 ,  6.26824657,  7.54465944,  8.82107231, 10.09748518,\n",
       "        11.37389805]),\n",
       " <a list of 10 Patch objects>)"
      ]
     },
     "execution_count": 344,
     "metadata": {},
     "output_type": "execute_result"
    },
    {
     "data": {
      "image/png": "[encoded data removed]",
      "text/plain": [
       "<Figure size 432x288 with 1 Axes>"
      ]
     },
     "metadata": {
      "needs_background": "light"
     },
     "output_type": "display_data"
    }
   ],
   "source": [
    "plt.hist(robust[:,1])"
   ]
  },
  {
   "cell_type": "code",
   "execution_count": 317,
   "metadata": {},
   "outputs": [
    {
     "data": {
      "text/plain": [
       "{'whiskers': [<matplotlib.lines.Line2D at 0x7fcb15ecc8b0>,\n",
       "  <matplotlib.lines.Line2D at 0x7fcb15eccc10>],\n",
       " 'caps': [<matplotlib.lines.Line2D at 0x7fcb15eccf70>,\n",
       "  <matplotlib.lines.Line2D at 0x7fcb15ed6310>],\n",
       " 'boxes': [<matplotlib.lines.Line2D at 0x7fcb15ecc550>],\n",
       " 'medians': [<matplotlib.lines.Line2D at 0x7fcb15ed6670>],\n",
       " 'fliers': [<matplotlib.lines.Line2D at 0x7fcb15ed6970>],\n",
       " 'means': []}"
      ]
     },
     "execution_count": 317,
     "metadata": {},
     "output_type": "execute_result"
    },
    {
     "data": {
      "image/png": "[encoded data removed]",
      "text/plain": [
       "<Figure size 432x288 with 1 Axes>"
      ]
     },
     "metadata": {
      "needs_background": "light"
     },
     "output_type": "display_data"
    }
   ],
   "source": [
    "plt.boxplot(robust[:,1])"
   ]
  },
  {
   "cell_type": "code",
   "execution_count": 318,
   "metadata": {},
   "outputs": [
    {
     "name": "stdout",
     "output_type": "stream",
     "text": [
      "(89922, 18)\n",
      "(18,)\n"
     ]
    }
   ],
   "source": [
    "print(tX_train.shape)\n",
    "print(q3.shape)"
   ]
  },
  {
   "cell_type": "code",
   "execution_count": 319,
   "metadata": {},
   "outputs": [
    {
     "name": "stdout",
     "output_type": "stream",
     "text": [
      "(4, 3)\n",
      "(3,)\n",
      "[[ 3  4  5]\n",
      " [ 6  7  8]\n",
      " [ 2  3  6]\n",
      " [ 1  1 -5]]\n",
      "[4 9 2]\n"
     ]
    },
    {
     "data": {
      "text/plain": [
       "array([[4, 9, 5],\n",
       "       [6, 9, 8],\n",
       "       [4, 9, 6],\n",
       "       [4, 9, 2]])"
      ]
     },
     "execution_count": 319,
     "metadata": {},
     "output_type": "execute_result"
    }
   ],
   "source": [
    "a = np.array([[3,4,5],[6,7,8],[2,3,6],[1,1,-5]])\n",
    "b = np.array([4,9,2])\n",
    "\n",
    "print(a.shape)\n",
    "print(b.shape)\n",
    "print(a)\n",
    "print(b)\n",
    "np.where(a > b, a,b)"
   ]
  },
  {
   "cell_type": "code",
   "execution_count": 331,
   "metadata": {},
   "outputs": [
    {
     "name": "stdout",
     "output_type": "stream",
     "text": [
      "11.373898052736749\n"
     ]
    },
    {
     "data": {
      "image/png": "[encoded data removed]",
      "text/plain": [
       "<Figure size 432x288 with 1 Axes>"
      ]
     },
     "metadata": {
      "needs_background": "light"
     },
     "output_type": "display_data"
    }
   ],
   "source": [
    "plt.boxplot(robust[:,1])\n",
    "\n",
    "print(max(robust[:,1]))"
   ]
  },
  {
   "cell_type": "code",
   "execution_count": 324,
   "metadata": {},
   "outputs": [
    {
     "data": {
      "text/plain": [
       "array([137.347  ,  79.6475 ,  94.13175,  24.1955 ,   3.095  ,  24.1955 ,\n",
       "        85.24275,   1.727  ,  -1.122  ,  39.81175,   0.899  ,   1.563  ,\n",
       "        49.019  ,   0.99   ,   1.624  ,  42.2545 ,   1.548  , 156.4295 ])"
      ]
     },
     "execution_count": 324,
     "metadata": {},
     "output_type": "execute_result"
    }
   ],
   "source": [
    "q3"
   ]
  },
  {
   "cell_type": "code",
   "execution_count": 328,
   "metadata": {},
   "outputs": [],
   "source": [
    "ind = np.where(robust > q3*1.5, robust, q3)\n"
   ]
  },
  {
   "cell_type": "code",
   "execution_count": 329,
   "metadata": {},
   "outputs": [
    {
     "data": {
      "text/plain": [
       "array([[137.347  ,  79.6475 ,  94.13175, ...,  42.2545 ,   1.548  ,\n",
       "        156.4295 ],\n",
       "       [137.347  ,  79.6475 ,  94.13175, ...,  42.2545 ,   1.548  ,\n",
       "        156.4295 ],\n",
       "       [137.347  ,  79.6475 ,  94.13175, ...,  42.2545 ,   1.548  ,\n",
       "        156.4295 ],\n",
       "       ...,\n",
       "       [137.347  ,  79.6475 ,  94.13175, ...,  42.2545 ,   1.548  ,\n",
       "        156.4295 ],\n",
       "       [137.347  ,  79.6475 ,  94.13175, ...,  42.2545 ,   1.548  ,\n",
       "        156.4295 ],\n",
       "       [137.347  ,  79.6475 ,  94.13175, ...,  42.2545 ,   1.548  ,\n",
       "        156.4295 ]])"
      ]
     },
     "execution_count": 329,
     "metadata": {},
     "output_type": "execute_result"
    }
   ],
   "source": [
    "ind"
   ]
  },
  {
   "cell_type": "code",
   "execution_count": 327,
   "metadata": {},
   "outputs": [
    {
     "data": {
      "text/plain": [
       "{'whiskers': [<matplotlib.lines.Line2D at 0x7fcb15e079a0>,\n",
       "  <matplotlib.lines.Line2D at 0x7fcb15e07d00>],\n",
       " 'caps': [<matplotlib.lines.Line2D at 0x7fcb15e130a0>,\n",
       "  <matplotlib.lines.Line2D at 0x7fcb15e13400>],\n",
       " 'boxes': [<matplotlib.lines.Line2D at 0x7fcb15e07640>],\n",
       " 'medians': [<matplotlib.lines.Line2D at 0x7fcb15e13760>],\n",
       " 'fliers': [<matplotlib.lines.Line2D at 0x7fcb15e13a60>],\n",
       " 'means': []}"
      ]
     },
     "execution_count": 327,
     "metadata": {},
     "output_type": "execute_result"
    },
    {
     "data": {
      "image/png": "[encoded data removed]",
      "text/plain": [
       "<Figure size 432x288 with 1 Axes>"
      ]
     },
     "metadata": {
      "needs_background": "light"
     },
     "output_type": "display_data"
    }
   ],
   "source": [
    "plt.boxplot(ind[:,1])"
   ]
  },
  {
   "cell_type": "code",
   "execution_count": 303,
   "metadata": {},
   "outputs": [
    {
     "data": {
      "text/plain": [
       "array([79.6475, 79.6475, 79.6475, ..., 79.6475, 79.6475, 79.6475])"
      ]
     },
     "execution_count": 303,
     "metadata": {},
     "output_type": "execute_result"
    }
   ],
   "source": [
    "ind[:,1]"
   ]
  },
  {
   "cell_type": "code",
   "execution_count": 304,
   "metadata": {},
   "outputs": [
    {
     "data": {
      "text/plain": [
       "array([137.347  ,  79.6475 ,  94.13175,  24.1955 ,       nan,       nan,\n",
       "             nan,   3.095  ,  24.1955 ,  85.24275,   1.727  ,  -1.122  ,\n",
       "             nan,  39.81175,   0.899  ,   1.563  ,  49.019  ,   0.99   ,\n",
       "         1.624  ,  42.2545 ,   1.548  , 156.4295 ,       nan,       nan,\n",
       "             nan,       nan,       nan,       nan])"
      ]
     },
     "execution_count": 304,
     "metadata": {},
     "output_type": "execute_result"
    }
   ],
   "source": [
    "q3"
   ]
  },
  {
   "cell_type": "code",
   "execution_count": 305,
   "metadata": {},
   "outputs": [
    {
     "data": {
      "text/plain": [
       "array([ 0.03696386,  0.4098936 ,  0.35940692, ...,  1.31323568,\n",
       "       -0.22370859, -0.98615814])"
      ]
     },
     "execution_count": 305,
     "metadata": {},
     "output_type": "execute_result"
    }
   ],
   "source": [
    "robust[:,1]"
   ]
  },
  {
   "cell_type": "markdown",
   "metadata": {},
   "source": [
    "### "
   ]
  },
  {
   "cell_type": "code",
   "execution_count": 200,
   "metadata": {},
   "outputs": [],
   "source": [
    "copy_robust = np.copy(robust)"
   ]
  },
  {
   "cell_type": "code",
   "execution_count": 201,
   "metadata": {},
   "outputs": [
    {
     "data": {
      "text/plain": [
       "array([[ 0.54297176,  0.03696386,  0.31487712, ...,         nan,\n",
       "                nan,         nan],\n",
       "       [ 1.02221514,  0.4098936 ,  1.3150129 , ...,         nan,\n",
       "                nan,         nan],\n",
       "       [ 1.55223294,  0.35940692,  1.87618243, ...,         nan,\n",
       "                nan,         nan],\n",
       "       ...,\n",
       "       [        nan,  1.31323568,  0.00764902, ...,         nan,\n",
       "                nan,         nan],\n",
       "       [-0.74366781, -0.22370859, -0.36689649, ...,         nan,\n",
       "                nan,         nan],\n",
       "       [-0.25294758, -0.98615814, -0.39067332, ...,         nan,\n",
       "                nan,         nan]])"
      ]
     },
     "execution_count": 201,
     "metadata": {},
     "output_type": "execute_result"
    }
   ],
   "source": [
    "copy_robust"
   ]
  },
  {
   "cell_type": "code",
   "execution_count": 225,
   "metadata": {},
   "outputs": [
    {
     "data": {
      "text/plain": [
       "(89922, 28)"
      ]
     },
     "execution_count": 225,
     "metadata": {},
     "output_type": "execute_result"
    }
   ],
   "source": [
    "tX.shape"
   ]
  },
  {
   "cell_type": "code",
   "execution_count": 223,
   "metadata": {},
   "outputs": [
    {
     "data": {
      "text/plain": [
       "(3, 4)"
      ]
     },
     "execution_count": 223,
     "metadata": {},
     "output_type": "execute_result"
    }
   ],
   "source": [
    "a = np.array([[ 0.93230948,         np.nan , 0.47773439 , 0.76998063],\n",
    " [ 0.94460779,  0.87882456,  0.79615838 , 0.56282885],\n",
    " [ 0.94272934 , 0.48615268 , 0.06196785   ,      np.nan]])\n",
    "\n",
    "a.shape"
   ]
  },
  {
   "cell_type": "code",
   "execution_count": 228,
   "metadata": {},
   "outputs": [
    {
     "name": "stdout",
     "output_type": "stream",
     "text": [
      "[0.9398822  0.68248862 0.44528687 0.66640474]\n"
     ]
    },
    {
     "data": {
      "text/plain": [
       "(array([0, 2]), array([1, 3]))"
      ]
     },
     "execution_count": 228,
     "metadata": {},
     "output_type": "execute_result"
    }
   ],
   "source": [
    "col_mean = np.nanmean(a, axis=0)\n",
    "print(col_mean)\n",
    "inds = np.where(np.isnan(a))\n",
    "inds"
   ]
  },
  {
   "cell_type": "code",
   "execution_count": 245,
   "metadata": {},
   "outputs": [],
   "source": [
    "inds = np.where(abs(robust) > abs(q3*1.5))\n",
    "copy_robust[inds] = np.take(q3, ind[1])"
   ]
  },
  {
   "cell_type": "code",
   "execution_count": 250,
   "metadata": {},
   "outputs": [
    {
     "data": {
      "text/plain": [
       "array([[ True, False, False, ..., False, False, False],\n",
       "       [ True, False,  True, ..., False, False, False],\n",
       "       [ True, False,  True, ..., False, False, False],\n",
       "       ...,\n",
       "       [False,  True, False, ..., False, False, False],\n",
       "       [ True, False, False, ..., False, False, False],\n",
       "       [False,  True, False, ..., False, False, False]])"
      ]
     },
     "execution_count": 250,
     "metadata": {},
     "output_type": "execute_result"
    }
   ],
   "source": [
    "abs(robust)>0.5"
   ]
  },
  {
   "cell_type": "code",
   "execution_count": 246,
   "metadata": {},
   "outputs": [
    {
     "data": {
      "text/plain": [
       "{'whiskers': [<matplotlib.lines.Line2D at 0x7fcafc0d17c0>,\n",
       "  <matplotlib.lines.Line2D at 0x7fcafc0d1b20>],\n",
       " 'caps': [<matplotlib.lines.Line2D at 0x7fcafc0d1e80>,\n",
       "  <matplotlib.lines.Line2D at 0x7fcafc0dd220>],\n",
       " 'boxes': [<matplotlib.lines.Line2D at 0x7fcafc0d1460>],\n",
       " 'medians': [<matplotlib.lines.Line2D at 0x7fcafc0dd580>],\n",
       " 'fliers': [<matplotlib.lines.Line2D at 0x7fcafc0dd880>],\n",
       " 'means': []}"
      ]
     },
     "execution_count": 246,
     "metadata": {},
     "output_type": "execute_result"
    },
    {
     "data": {
      "image/png": "[encoded data removed]",
      "text/plain": [
       "<Figure size 432x288 with 1 Axes>"
      ]
     },
     "metadata": {
      "needs_background": "light"
     },
     "output_type": "display_data"
    }
   ],
   "source": [
    "plt.boxplot(robust[:,11])"
   ]
  },
  {
   "cell_type": "code",
   "execution_count": 247,
   "metadata": {},
   "outputs": [
    {
     "data": {
      "text/plain": [
       "{'whiskers': [<matplotlib.lines.Line2D at 0x7fcaffea7b50>,\n",
       "  <matplotlib.lines.Line2D at 0x7fcaffea7eb0>],\n",
       " 'caps': [<matplotlib.lines.Line2D at 0x7fcaffeb1250>,\n",
       "  <matplotlib.lines.Line2D at 0x7fcaffeb15b0>],\n",
       " 'boxes': [<matplotlib.lines.Line2D at 0x7fcaffea77f0>],\n",
       " 'medians': [<matplotlib.lines.Line2D at 0x7fcaffeb1910>],\n",
       " 'fliers': [<matplotlib.lines.Line2D at 0x7fcaffeb1c10>],\n",
       " 'means': []}"
      ]
     },
     "execution_count": 247,
     "metadata": {},
     "output_type": "execute_result"
    },
    {
     "data": {
      "image/png": "[encoded data removed]",
      "text/plain": [
       "<Figure size 432x288 with 1 Axes>"
      ]
     },
     "metadata": {
      "needs_background": "light"
     },
     "output_type": "display_data"
    }
   ],
   "source": [
    "plt.boxplot(copy_robust[:,11])"
   ]
  },
  {
   "cell_type": "code",
   "execution_count": 239,
   "metadata": {},
   "outputs": [
    {
     "data": {
      "text/plain": [
       "array([-1.122, -1.122, -1.122, ..., -1.122, -1.122, -1.122])"
      ]
     },
     "execution_count": 239,
     "metadata": {},
     "output_type": "execute_result"
    }
   ],
   "source": [
    "copy_robust[:,11]"
   ]
  },
  {
   "cell_type": "code",
   "execution_count": 242,
   "metadata": {},
   "outputs": [
    {
     "data": {
      "text/plain": [
       "-1.6830000000000003"
      ]
     },
     "execution_count": 242,
     "metadata": {},
     "output_type": "execute_result"
    }
   ],
   "source": [
    "q3[11]*1.5"
   ]
  },
  {
   "cell_type": "code",
   "execution_count": 236,
   "metadata": {},
   "outputs": [
    {
     "data": {
      "text/plain": [
       "array([-1.122, -1.122, -1.122, ..., -1.122, -1.122, -1.122])"
      ]
     },
     "execution_count": 236,
     "metadata": {},
     "output_type": "execute_result"
    }
   ],
   "source": [
    "copy_robust[ind]"
   ]
  },
  {
   "cell_type": "code",
   "execution_count": 210,
   "metadata": {},
   "outputs": [
    {
     "data": {
      "text/plain": [
       "array([-0.04255319, -0.08156028, -0.04964539, ..., -0.16312057,\n",
       "       -0.09929078,  2.78368794])"
      ]
     },
     "execution_count": 210,
     "metadata": {},
     "output_type": "execute_result"
    }
   ],
   "source": [
    "robust[ind]"
   ]
  },
  {
   "cell_type": "code",
   "execution_count": 211,
   "metadata": {},
   "outputs": [
    {
     "name": "stdout",
     "output_type": "stream",
     "text": [
      "0.0\n",
      "-0.05401844532279333\n"
     ]
    }
   ],
   "source": [
    "print(np.nanmedian(robust))\n",
    "print(np.nanmedian(copy_robust))"
   ]
  },
  {
   "cell_type": "code",
   "execution_count": 214,
   "metadata": {},
   "outputs": [
    {
     "name": "stdout",
     "output_type": "stream",
     "text": [
      "7.953978187896782e-17\n",
      "7.953978187896782e-17\n"
     ]
    },
    {
     "data": {
      "text/plain": [
       "89922"
      ]
     },
     "execution_count": 214,
     "metadata": {},
     "output_type": "execute_result"
    }
   ],
   "source": [
    "print(np.nanmedian(robust[:,1]))\n",
    "print(np.nanmedian(copy_robust[:,1]))"
   ]
  },
  {
   "cell_type": "code",
   "execution_count": 213,
   "metadata": {},
   "outputs": [
    {
     "data": {
      "text/plain": [
       "{'whiskers': [<matplotlib.lines.Line2D at 0x7fcafb8fb100>,\n",
       "  <matplotlib.lines.Line2D at 0x7fcafb8fb460>],\n",
       " 'caps': [<matplotlib.lines.Line2D at 0x7fcafb8fb7c0>,\n",
       "  <matplotlib.lines.Line2D at 0x7fcafb8fbb20>],\n",
       " 'boxes': [<matplotlib.lines.Line2D at 0x7fcb02d2cd60>],\n",
       " 'medians': [<matplotlib.lines.Line2D at 0x7fcafb8fbe80>],\n",
       " 'fliers': [<matplotlib.lines.Line2D at 0x7fcafb9071c0>],\n",
       " 'means': []}"
      ]
     },
     "execution_count": 213,
     "metadata": {},
     "output_type": "execute_result"
    },
    {
     "data": {
      "image/png": "[encoded data removed]",
      "text/plain": [
       "<Figure size 432x288 with 1 Axes>"
      ]
     },
     "metadata": {
      "needs_background": "light"
     },
     "output_type": "display_data"
    }
   ],
   "source": [
    "plt.boxplot(copy_robust[:,1])"
   ]
  },
  {
   "cell_type": "code",
   "execution_count": 106,
   "metadata": {},
   "outputs": [],
   "source": [
    "tX = (tX_train - col_mean)/col_std\n",
    "\n",
    "# Replaces missings with median\n",
    "inds = np.where(np.isnan(tX))\n",
    "tX[inds] = np.take(col_mean, inds[1])\n",
    "\n",
    "# Creates dummies for imputed values\n",
    "tX_imputed = np.zeros((tX.shape[0],tX.shape[1]))\n",
    "array_one = np.ones(tX.shape[1])\n",
    "tX_imputed[inds] = np.take(array_one, inds[1])\n",
    "\n",
    "# Concatenates imputed dummies with variables\n",
    "tX_clean = np.hstack((tX, tX_imputed))"
   ]
  },
  {
   "cell_type": "code",
   "execution_count": 108,
   "metadata": {},
   "outputs": [
    {
     "data": {
      "text/plain": [
       "(89922, 56)"
      ]
     },
     "execution_count": 108,
     "metadata": {},
     "output_type": "execute_result"
    }
   ],
   "source": [
    "tX_clean.shape"
   ]
  },
  {
   "cell_type": "code",
   "execution_count": 5,
   "metadata": {},
   "outputs": [
    {
     "ename": "ValueError",
     "evalue": "operands could not be broadcast together with shapes (25000,30) (25000,) ",
     "output_type": "error",
     "traceback": [
      "\u001b[0;31m---------------------------------------------------------------------------\u001b[0m",
      "\u001b[0;31mValueError\u001b[0m                                Traceback (most recent call last)",
      "\u001b[0;32m<ipython-input-5-c0623bc94df2>\u001b[0m in \u001b[0;36m<module>\u001b[0;34m\u001b[0m\n\u001b[1;32m      3\u001b[0m \u001b[0;34m\u001b[0m\u001b[0m\n\u001b[1;32m      4\u001b[0m \u001b[0mX_train\u001b[0m\u001b[0;34m,\u001b[0m \u001b[0mX_test\u001b[0m\u001b[0;34m,\u001b[0m \u001b[0my_train\u001b[0m\u001b[0;34m,\u001b[0m \u001b[0my_test\u001b[0m \u001b[0;34m=\u001b[0m \u001b[0msplit_data\u001b[0m\u001b[0;34m(\u001b[0m\u001b[0mtX\u001b[0m\u001b[0;34m,\u001b[0m \u001b[0my\u001b[0m\u001b[0;34m,\u001b[0m \u001b[0;36m0.1\u001b[0m\u001b[0;34m,\u001b[0m \u001b[0mmyseed\u001b[0m\u001b[0;34m=\u001b[0m\u001b[0;36m1\u001b[0m\u001b[0;34m)\u001b[0m\u001b[0;34m\u001b[0m\u001b[0;34m\u001b[0m\u001b[0m\n\u001b[0;32m----> 5\u001b[0;31m \u001b[0mX_train\u001b[0m\u001b[0;34m,\u001b[0m \u001b[0mX_test\u001b[0m \u001b[0;34m=\u001b[0m \u001b[0mpreprocessing\u001b[0m\u001b[0;34m(\u001b[0m\u001b[0mX_train\u001b[0m\u001b[0;34m,\u001b[0m \u001b[0mX_test\u001b[0m\u001b[0;34m)\u001b[0m\u001b[0;34m\u001b[0m\u001b[0;34m\u001b[0m\u001b[0m\n\u001b[0m",
      "\u001b[0;32m~/Documents/EPFL/MLproject1/src/pipeline.py\u001b[0m in \u001b[0;36mpreprocessing\u001b[0;34m(tX, tX_test)\u001b[0m\n\u001b[1;32m     59\u001b[0m     \u001b[0mcol_mean\u001b[0m \u001b[0;34m=\u001b[0m \u001b[0mnp\u001b[0m\u001b[0;34m.\u001b[0m\u001b[0mdelete\u001b[0m\u001b[0;34m(\u001b[0m\u001b[0mcol_mean\u001b[0m\u001b[0;34m,\u001b[0m \u001b[0mconstant_ind\u001b[0m\u001b[0;34m,\u001b[0m \u001b[0maxis\u001b[0m\u001b[0;34m=\u001b[0m\u001b[0;36m0\u001b[0m\u001b[0;34m)\u001b[0m\u001b[0;34m\u001b[0m\u001b[0;34m\u001b[0m\u001b[0m\n\u001b[1;32m     60\u001b[0m \u001b[0;34m\u001b[0m\u001b[0m\n\u001b[0;32m---> 61\u001b[0;31m     \u001b[0mtX_clean\u001b[0m \u001b[0;34m=\u001b[0m \u001b[0mtransform\u001b[0m\u001b[0;34m(\u001b[0m\u001b[0mtX\u001b[0m\u001b[0;34m,\u001b[0m \u001b[0mcol_mean\u001b[0m\u001b[0;34m,\u001b[0m \u001b[0mcol_std\u001b[0m\u001b[0;34m)\u001b[0m\u001b[0;34m\u001b[0m\u001b[0;34m\u001b[0m\u001b[0m\n\u001b[0m\u001b[1;32m     62\u001b[0m     \u001b[0mtX_test_clean\u001b[0m \u001b[0;34m=\u001b[0m \u001b[0mtransform\u001b[0m\u001b[0;34m(\u001b[0m\u001b[0mtX_test\u001b[0m\u001b[0;34m,\u001b[0m \u001b[0mcol_mean\u001b[0m\u001b[0;34m,\u001b[0m \u001b[0mcol_std\u001b[0m\u001b[0;34m)\u001b[0m\u001b[0;34m\u001b[0m\u001b[0;34m\u001b[0m\u001b[0m\n\u001b[1;32m     63\u001b[0m \u001b[0;34m\u001b[0m\u001b[0m\n",
      "\u001b[0;32m~/Documents/EPFL/MLproject1/src/pipeline.py\u001b[0m in \u001b[0;36mtransform\u001b[0;34m(tX, col_mean, col_std)\u001b[0m\n\u001b[1;32m      7\u001b[0m \u001b[0;32mdef\u001b[0m \u001b[0mtransform\u001b[0m\u001b[0;34m(\u001b[0m\u001b[0mtX\u001b[0m\u001b[0;34m,\u001b[0m \u001b[0mcol_mean\u001b[0m\u001b[0;34m,\u001b[0m \u001b[0mcol_std\u001b[0m\u001b[0;34m)\u001b[0m\u001b[0;34m:\u001b[0m\u001b[0;34m\u001b[0m\u001b[0;34m\u001b[0m\u001b[0m\n\u001b[1;32m      8\u001b[0m     \u001b[0;31m# Standardize\u001b[0m\u001b[0;34m\u001b[0m\u001b[0;34m\u001b[0m\u001b[0;34m\u001b[0m\u001b[0m\n\u001b[0;32m----> 9\u001b[0;31m     \u001b[0mtX\u001b[0m \u001b[0;34m=\u001b[0m \u001b[0;34m(\u001b[0m\u001b[0mtX\u001b[0m \u001b[0;34m-\u001b[0m \u001b[0mcol_mean\u001b[0m\u001b[0;34m)\u001b[0m\u001b[0;34m/\u001b[0m\u001b[0mcol_std\u001b[0m\u001b[0;34m\u001b[0m\u001b[0;34m\u001b[0m\u001b[0m\n\u001b[0m\u001b[1;32m     10\u001b[0m \u001b[0;34m\u001b[0m\u001b[0m\n\u001b[1;32m     11\u001b[0m     \u001b[0;31m# Replaces missings with mean\u001b[0m\u001b[0;34m\u001b[0m\u001b[0;34m\u001b[0m\u001b[0;34m\u001b[0m\u001b[0m\n",
      "\u001b[0;31mValueError\u001b[0m: operands could not be broadcast together with shapes (25000,30) (25000,) "
     ]
    }
   ],
   "source": [
    "# Simple division\n",
    "# TODO: Cross validation\n",
    "\n",
    "X_train, X_test, y_train, y_test = split_data(tX, y, 0.1, myseed=1)\n",
    "X_train, X_test = preprocessing(X_train, X_test)\n"
   ]
  },
  {
   "cell_type": "code",
   "execution_count": null,
   "metadata": {},
   "outputs": [],
   "source": [
    "X_train_processed.head()"
   ]
  },
  {
   "cell_type": "code",
   "execution_count": null,
   "metadata": {},
   "outputs": [],
   "source": [
    "X_train_processed.DER_mass_MMC.hist()"
   ]
  },
  {
   "cell_type": "code",
   "execution_count": null,
   "metadata": {},
   "outputs": [],
   "source": []
  },
  {
   "cell_type": "code",
   "execution_count": null,
   "metadata": {},
   "outputs": [],
   "source": [
    "col_names = ['DER_mass_MMC', 'DER_mass_transverse_met_lep',\n",
    "       'DER_mass_vis', 'DER_pt_h', 'DER_deltaeta_jet_jet', 'DER_mass_jet_jet',\n",
    "       'DER_prodeta_jet_jet', 'DER_deltar_tau_lep', 'DER_pt_tot', 'DER_sum_pt',\n",
    "       'DER_pt_ratio_lep_tau', 'DER_met_phi_centrality',\n",
    "       'DER_lep_eta_centrality', 'PRI_tau_pt', 'PRI_tau_eta', 'PRI_tau_phi',\n",
    "       'PRI_lep_pt', 'PRI_lep_eta', 'PRI_lep_phi', 'PRI_met', 'PRI_met_phi',\n",
    "       'PRI_met_sumet', 'PRI_jet_num', 'PRI_jet_leading_pt',\n",
    "       'PRI_jet_leading_eta', 'PRI_jet_leading_phi', 'PRI_jet_subleading_pt',\n",
    "       'PRI_jet_subleading_eta', 'PRI_jet_subleading_phi', 'PRI_jet_all_pt']\n",
    "\n",
    "\n",
    "col_names_imputed = [\"imp_\" + x  for x in col_names]\n",
    "all_col_names = col_names + col_names_imputed"
   ]
  },
  {
   "cell_type": "code",
   "execution_count": null,
   "metadata": {},
   "outputs": [],
   "source": [
    "import pandas as pd\n",
    "X_train_processed = pd.DataFrame(X_train, columns = all_col_names)"
   ]
  },
  {
   "cell_type": "code",
   "execution_count": null,
   "metadata": {},
   "outputs": [],
   "source": [
    "X_train_processed.head()"
   ]
  },
  {
   "cell_type": "code",
   "execution_count": null,
   "metadata": {},
   "outputs": [],
   "source": [
    "X_train_processed.isna().sum()"
   ]
  },
  {
   "cell_type": "code",
   "execution_count": 6,
   "metadata": {},
   "outputs": [
    {
     "ename": "NameError",
     "evalue": "name 'X_train_processed' is not defined",
     "output_type": "error",
     "traceback": [
      "\u001b[0;31m---------------------------------------------------------------------------\u001b[0m",
      "\u001b[0;31mNameError\u001b[0m                                 Traceback (most recent call last)",
      "\u001b[0;32m<ipython-input-6-296d9e4baf5b>\u001b[0m in \u001b[0;36m<module>\u001b[0;34m\u001b[0m\n\u001b[0;32m----> 1\u001b[0;31m \u001b[0mX_train_processed\u001b[0m\u001b[0;34m.\u001b[0m\u001b[0mDER_mass_MMC\u001b[0m\u001b[0;34m.\u001b[0m\u001b[0mhist\u001b[0m\u001b[0;34m(\u001b[0m\u001b[0mbins\u001b[0m\u001b[0;34m=\u001b[0m\u001b[0;36m100\u001b[0m\u001b[0;34m)\u001b[0m\u001b[0;34m\u001b[0m\u001b[0;34m\u001b[0m\u001b[0m\n\u001b[0m",
      "\u001b[0;31mNameError\u001b[0m: name 'X_train_processed' is not defined"
     ]
    }
   ],
   "source": [
    "X_train_processed.DER_mass_MMC.hist(bins=100)"
   ]
  },
  {
   "cell_type": "code",
   "execution_count": 7,
   "metadata": {},
   "outputs": [
    {
     "ename": "NameError",
     "evalue": "name 'pd' is not defined",
     "output_type": "error",
     "traceback": [
      "\u001b[0;31m---------------------------------------------------------------------------\u001b[0m",
      "\u001b[0;31mNameError\u001b[0m                                 Traceback (most recent call last)",
      "\u001b[0;32m<ipython-input-7-2fb55ae4222e>\u001b[0m in \u001b[0;36m<module>\u001b[0;34m\u001b[0m\n\u001b[0;32m----> 1\u001b[0;31m \u001b[0mpd\u001b[0m\u001b[0;34m.\u001b[0m\u001b[0mDataFrame\u001b[0m\u001b[0;34m(\u001b[0m\u001b[0my_train\u001b[0m\u001b[0;34m)\u001b[0m\u001b[0;34m\u001b[0m\u001b[0;34m\u001b[0m\u001b[0m\n\u001b[0m",
      "\u001b[0;31mNameError\u001b[0m: name 'pd' is not defined"
     ]
    }
   ],
   "source": [
    "pd.DataFrame(y_train)"
   ]
  },
  {
   "cell_type": "code",
   "execution_count": 41,
   "metadata": {},
   "outputs": [
    {
     "data": {
      "text/plain": [
       "-0.23537240984924382"
      ]
     },
     "execution_count": 41,
     "metadata": {},
     "output_type": "execute_result"
    }
   ],
   "source": [
    "X_train_processed.DER_mass_MMC.corr(pd.DataFrame(y_train, columns = ['outcome'])['outcome'])"
   ]
  },
  {
   "cell_type": "code",
   "execution_count": null,
   "metadata": {},
   "outputs": [],
   "source": [
    "X_train_processed.DER_mass_MMC.hist(bins=100, )"
   ]
  },
  {
   "cell_type": "code",
   "execution_count": 14,
   "metadata": {},
   "outputs": [],
   "source": [
    "from sklearn.linear_model import LogisticRegression\n",
    "from sklearn.metrics import classification_report\n",
    "from sklearn.model_selection import GridSearchCV"
   ]
  },
  {
   "cell_type": "markdown",
   "metadata": {},
   "source": [
    "# Baseline"
   ]
  },
  {
   "cell_type": "code",
   "execution_count": 15,
   "metadata": {},
   "outputs": [
    {
     "name": "stderr",
     "output_type": "stream",
     "text": [
      "/usr/lib/python3.8/site-packages/sklearn/linear_model/_logistic.py:762: ConvergenceWarning: lbfgs failed to converge (status=1):\n",
      "STOP: TOTAL NO. of ITERATIONS REACHED LIMIT.\n",
      "\n",
      "Increase the number of iterations (max_iter) or scale the data as shown in:\n",
      "    https://scikit-learn.org/stable/modules/preprocessing.html\n",
      "Please also refer to the documentation for alternative solver options:\n",
      "    https://scikit-learn.org/stable/modules/linear_model.html#logistic-regression\n",
      "  n_iter_i = _check_optimize_result(\n"
     ]
    },
    {
     "name": "stdout",
     "output_type": "stream",
     "text": [
      "              precision    recall  f1-score   support\n",
      "\n",
      "        -1.0       0.78      0.86      0.82    147877\n",
      "         1.0       0.67      0.54      0.60     77123\n",
      "\n",
      "    accuracy                           0.75    225000\n",
      "   macro avg       0.73      0.70      0.71    225000\n",
      "weighted avg       0.74      0.75      0.74    225000\n",
      "\n"
     ]
    }
   ],
   "source": [
    "clf = LogisticRegression(max_iter = 700)\n",
    "clf.fit(X_train, y_train)\n",
    "y_pred = clf.predict(X_test)\n",
    "print(classification_report(y_test, y_pred))"
   ]
  },
  {
   "cell_type": "code",
   "execution_count": 48,
   "metadata": {},
   "outputs": [
    {
     "name": "stdout",
     "output_type": "stream",
     "text": [
      "              precision    recall  f1-score   support\n",
      "\n",
      "        -1.0       0.85      0.90      0.88    147877\n",
      "         1.0       0.79      0.69      0.74     77123\n",
      "\n",
      "    accuracy                           0.83    225000\n",
      "   macro avg       0.82      0.80      0.81    225000\n",
      "weighted avg       0.83      0.83      0.83    225000\n",
      "\n"
     ]
    }
   ],
   "source": [
    "from sklearn.ensemble import RandomForestClassifier\n",
    "clf = RandomForestClassifier(n_estimators=100)\n",
    "clf.fit(X_train, y_train)\n",
    "y_pred = clf.predict(X_test)\n",
    "print(classification_report(y_test, y_pred))"
   ]
  },
  {
   "cell_type": "code",
   "execution_count": 55,
   "metadata": {},
   "outputs": [
    {
     "name": "stdout",
     "output_type": "stream",
     "text": [
      "              precision    recall  f1-score   support\n",
      "\n",
      "        -1.0       0.85      0.91      0.88    147877\n",
      "         1.0       0.79      0.69      0.74     77123\n",
      "\n",
      "    accuracy                           0.83    225000\n",
      "   macro avg       0.82      0.80      0.81    225000\n",
      "weighted avg       0.83      0.83      0.83    225000\n",
      "\n"
     ]
    }
   ],
   "source": [
    "from sklearn.ensemble import RandomForestClassifier\n",
    "clf = RandomForestClassifier(n_estimators=100)\n",
    "clf.fit(X_train, y_train)\n",
    "y_pred = clf.predict(X_test)\n",
    "print(classification_report(y_test, y_pred))"
   ]
  },
  {
   "cell_type": "code",
   "execution_count": null,
   "metadata": {},
   "outputs": [],
   "source": []
  },
  {
   "cell_type": "code",
   "execution_count": null,
   "metadata": {},
   "outputs": [],
   "source": [
    "X_train_processed = pd.DataFrame(X_train, columns = all_col_names)"
   ]
  },
  {
   "cell_type": "code",
   "execution_count": 53,
   "metadata": {},
   "outputs": [
    {
     "name": "stdout",
     "output_type": "stream",
     "text": [
      "Feature ranking:\n",
      "1. feature 0 (0.159013)\n",
      "2. feature 1 (0.090632)\n",
      "3. feature 2 (0.075695)\n",
      "4. feature 13 (0.055844)\n",
      "5. feature 11 (0.054233)\n",
      "6. feature 10 (0.050245)\n",
      "7. feature 7 (0.044399)\n",
      "8. feature 19 (0.041823)\n",
      "9. feature 3 (0.033305)\n",
      "10. feature 9 (0.030103)\n",
      "11. feature 16 (0.029774)\n",
      "12. feature 8 (0.028758)\n",
      "13. feature 21 (0.026657)\n",
      "14. feature 17 (0.026536)\n",
      "15. feature 14 (0.026445)\n",
      "16. feature 18 (0.024688)\n",
      "17. feature 15 (0.024665)\n",
      "18. feature 20 (0.024364)\n",
      "19. feature 4 (0.020476)\n",
      "20. feature 24 (0.020078)\n",
      "21. feature 5 (0.017205)\n",
      "22. feature 23 (0.016715)\n",
      "23. feature 29 (0.016231)\n",
      "24. feature 25 (0.015426)\n",
      "25. feature 12 (0.015012)\n",
      "26. feature 6 (0.008152)\n",
      "27. feature 26 (0.006608)\n",
      "28. feature 28 (0.006558)\n",
      "29. feature 27 (0.006269)\n",
      "30. feature 22 (0.004091)\n"
     ]
    }
   ],
   "source": [
    "importances = clf.feature_importances_\n",
    "std = np.std([tree.feature_importances_ for tree in clf.estimators_],\n",
    "             axis=0)\n",
    "indices = np.argsort(importances)[::-1]\n",
    "\n",
    "# Print the feature ranking\n",
    "print(\"Feature ranking:\")\n",
    "\n",
    "for f in range(X_train.shape[1]):\n",
    "    print(\"%d. feature %d (%f)\" % (f + 1, indices[f], importances[indices[f]]))"
   ]
  },
  {
   "cell_type": "code",
   "execution_count": 50,
   "metadata": {},
   "outputs": [
    {
     "data": {
      "text/plain": [
       "array([0.15901319, 0.09063204, 0.07569474, 0.0333051 , 0.02047639,\n",
       "       0.0172051 , 0.00815237, 0.04439898, 0.02875834, 0.03010286,\n",
       "       0.05024471, 0.05423269, 0.01501216, 0.05584429, 0.02644499,\n",
       "       0.02466486, 0.02977358, 0.02653616, 0.02468838, 0.04182306,\n",
       "       0.02436392, 0.02665722, 0.00409108, 0.01671498, 0.02007808,\n",
       "       0.01542594, 0.00660783, 0.00626881, 0.00655754, 0.01623061])"
      ]
     },
     "execution_count": 50,
     "metadata": {},
     "output_type": "execute_result"
    }
   ],
   "source": [
    "clf.feature_importances_ "
   ]
  },
  {
   "cell_type": "code",
   "execution_count": 18,
   "metadata": {},
   "outputs": [
    {
     "name": "stdout",
     "output_type": "stream",
     "text": [
      "Fitting 5 folds for each of 54 candidates, totalling 270 fits\n"
     ]
    },
    {
     "name": "stderr",
     "output_type": "stream",
     "text": [
      "[Parallel(n_jobs=-1)]: Using backend LokyBackend with 4 concurrent workers.\n",
      "[Parallel(n_jobs=-1)]: Done  42 tasks      | elapsed:  1.8min\n",
      "[Parallel(n_jobs=-1)]: Done 192 tasks      | elapsed:  9.6min\n",
      "[Parallel(n_jobs=-1)]: Done 270 out of 270 | elapsed: 13.4min finished\n",
      "/usr/lib/python3.8/site-packages/sklearn/linear_model/_logistic.py:1315: UserWarning: l1_ratio parameter is only used when penalty is 'elasticnet'. Got (penalty=l2)\n",
      "  warnings.warn(\"l1_ratio parameter is only used when penalty is \"\n",
      "/usr/lib/python3.8/site-packages/sklearn/linear_model/_logistic.py:762: ConvergenceWarning: lbfgs failed to converge (status=1):\n",
      "STOP: TOTAL NO. of ITERATIONS REACHED LIMIT.\n",
      "\n",
      "Increase the number of iterations (max_iter) or scale the data as shown in:\n",
      "    https://scikit-learn.org/stable/modules/preprocessing.html\n",
      "Please also refer to the documentation for alternative solver options:\n",
      "    https://scikit-learn.org/stable/modules/linear_model.html#logistic-regression\n",
      "  n_iter_i = _check_optimize_result(\n"
     ]
    },
    {
     "data": {
      "text/plain": [
       "GridSearchCV(cv=5, estimator=LogisticRegression(max_iter=700), n_jobs=-1,\n",
       "             param_grid={'C': [0.001, 0.1, 0.5, 1, 2, 10],\n",
       "                         'l1_ratio': [0.25, 0.5, 0.75],\n",
       "                         'penalty': ['l1', 'l2', 'elasticnet']},\n",
       "             scoring='f1', verbose=1)"
      ]
     },
     "execution_count": 18,
     "metadata": {},
     "output_type": "execute_result"
    }
   ],
   "source": [
    "clf = LogisticRegression(max_iter = 700)\n",
    "parameters = {'penalty':['l1','l2','elasticnet'], \n",
    "              'C':[0.001, 0.1, 0.5, 1, 2, 10],\n",
    "             'l1_ratio':[0.25,0.5,0.75]}\n",
    "gsc = GridSearchCV(clf, parameters,\n",
    "                    scoring = 'f1', \n",
    "                    cv = 5, \n",
    "                    verbose = 1,\n",
    "                    n_jobs = -1)\n",
    "\n",
    "gsc.fit(tX, y)"
   ]
  },
  {
   "cell_type": "code",
   "execution_count": 21,
   "metadata": {},
   "outputs": [
    {
     "data": {
      "text/plain": [
       "{'C': 0.1, 'l1_ratio': 0.25, 'penalty': 'l2'}"
      ]
     },
     "execution_count": 21,
     "metadata": {},
     "output_type": "execute_result"
    }
   ],
   "source": [
    "best_params =gsc.best_params_\n",
    "best_params"
   ]
  },
  {
   "cell_type": "code",
   "execution_count": 22,
   "metadata": {},
   "outputs": [
    {
     "data": {
      "text/plain": [
       "0.5694741426405251"
      ]
     },
     "execution_count": 22,
     "metadata": {},
     "output_type": "execute_result"
    }
   ],
   "source": [
    "gsc.best_score_"
   ]
  },
  {
   "cell_type": "code",
   "execution_count": 23,
   "metadata": {},
   "outputs": [
    {
     "name": "stdout",
     "output_type": "stream",
     "text": [
      "              precision    recall  f1-score   support\n",
      "\n",
      "        -1.0       0.78      0.87      0.82    147877\n",
      "         1.0       0.67      0.53      0.59     77123\n",
      "\n",
      "    accuracy                           0.75    225000\n",
      "   macro avg       0.73      0.70      0.71    225000\n",
      "weighted avg       0.74      0.75      0.74    225000\n",
      "\n"
     ]
    }
   ],
   "source": [
    "clf = LogisticRegression(max_iter = 700, C=0.1)\n",
    "clf.fit(X_train, y_train)\n",
    "y_pred = clf.predict(X_test)\n",
    "print(classification_report(y_test, y_pred))"
   ]
  },
  {
   "cell_type": "code",
   "execution_count": 46,
   "metadata": {},
   "outputs": [
    {
     "name": "stdout",
     "output_type": "stream",
     "text": [
      "Current iteration=0, loss=17328.67951399868\n"
     ]
    },
    {
     "name": "stderr",
     "output_type": "stream",
     "text": [
      "./../src/implementations.py:50: RuntimeWarning: overflow encountered in exp\n",
      "  return 1.0 / (1 + np.exp(-t))\n",
      "./../src/implementations.py:56: RuntimeWarning: divide by zero encountered in log\n",
      "  loss = y.T.dot(np.log(pred)) + (1 - y).T.dot(np.log(1 - pred))\n"
     ]
    },
    {
     "name": "stdout",
     "output_type": "stream",
     "text": [
      "Current iteration=0, loss=nan\n",
      "Current iteration=0, loss=nan\n",
      "Current iteration=0, loss=nan\n",
      "Current iteration=0, loss=nan\n",
      "Current iteration=0, loss=nan\n",
      "Current iteration=0, loss=nan\n",
      "Current iteration=0, loss=nan\n",
      "Current iteration=0, loss=nan\n",
      "Current iteration=0, loss=nan\n",
      "Current iteration=0, loss=nan\n",
      "Current iteration=0, loss=nan\n",
      "Current iteration=0, loss=nan\n",
      "Current iteration=0, loss=nan\n",
      "Current iteration=0, loss=nan\n",
      "Current iteration=0, loss=nan\n",
      "Current iteration=0, loss=nan\n"
     ]
    },
    {
     "ename": "KeyboardInterrupt",
     "evalue": "",
     "output_type": "error",
     "traceback": [
      "\u001b[0;31m---------------------------------------------------------------------------\u001b[0m",
      "\u001b[0;31mKeyboardInterrupt\u001b[0m                         Traceback (most recent call last)",
      "\u001b[0;32m<ipython-input-46-49cabce3bb83>\u001b[0m in \u001b[0;36m<module>\u001b[0;34m\u001b[0m\n\u001b[1;32m      8\u001b[0m \u001b[0;32mfor\u001b[0m \u001b[0ml\u001b[0m \u001b[0;32min\u001b[0m \u001b[0mlambdas_\u001b[0m\u001b[0;34m:\u001b[0m\u001b[0;34m\u001b[0m\u001b[0;34m\u001b[0m\u001b[0m\n\u001b[1;32m      9\u001b[0m     \u001b[0;32mfor\u001b[0m \u001b[0mg\u001b[0m \u001b[0;32min\u001b[0m \u001b[0mgammas\u001b[0m\u001b[0;34m:\u001b[0m\u001b[0;34m\u001b[0m\u001b[0;34m\u001b[0m\u001b[0m\n\u001b[0;32m---> 10\u001b[0;31m         \u001b[0mw\u001b[0m\u001b[0;34m,\u001b[0m \u001b[0mloss\u001b[0m \u001b[0;34m=\u001b[0m \u001b[0mreg_logistic_regression\u001b[0m\u001b[0;34m(\u001b[0m\u001b[0my_train\u001b[0m\u001b[0;34m,\u001b[0m \u001b[0mX_train\u001b[0m\u001b[0;34m,\u001b[0m \u001b[0ml\u001b[0m\u001b[0;34m,\u001b[0m\u001b[0mw\u001b[0m\u001b[0;34m,\u001b[0m\u001b[0;36m100\u001b[0m\u001b[0;34m,\u001b[0m\u001b[0mg\u001b[0m\u001b[0;34m)\u001b[0m\u001b[0;34m\u001b[0m\u001b[0;34m\u001b[0m\u001b[0m\n\u001b[0m\u001b[1;32m     11\u001b[0m         \u001b[0mws\u001b[0m\u001b[0;34m.\u001b[0m\u001b[0mappend\u001b[0m\u001b[0;34m(\u001b[0m\u001b[0mw\u001b[0m\u001b[0;34m)\u001b[0m\u001b[0;34m\u001b[0m\u001b[0;34m\u001b[0m\u001b[0m\n\u001b[1;32m     12\u001b[0m         \u001b[0mlosses\u001b[0m\u001b[0;34m.\u001b[0m\u001b[0mappend\u001b[0m\u001b[0;34m(\u001b[0m\u001b[0mloss\u001b[0m\u001b[0;34m)\u001b[0m\u001b[0;34m\u001b[0m\u001b[0;34m\u001b[0m\u001b[0m\n",
      "\u001b[0;32m~/Documents/EPFL/MLproject1/src/implementations.py\u001b[0m in \u001b[0;36mreg_logistic_regression\u001b[0;34m(y, tx, lambda_, initial_w, max_iter, gamma)\u001b[0m\n\u001b[1;32m    253\u001b[0m     \u001b[0;32mfor\u001b[0m \u001b[0miter\u001b[0m \u001b[0;32min\u001b[0m \u001b[0mrange\u001b[0m\u001b[0;34m(\u001b[0m\u001b[0mmax_iter\u001b[0m\u001b[0;34m)\u001b[0m\u001b[0;34m:\u001b[0m\u001b[0;34m\u001b[0m\u001b[0;34m\u001b[0m\u001b[0m\n\u001b[1;32m    254\u001b[0m         \u001b[0;31m# get loss and update w.\u001b[0m\u001b[0;34m\u001b[0m\u001b[0;34m\u001b[0m\u001b[0;34m\u001b[0m\u001b[0m\n\u001b[0;32m--> 255\u001b[0;31m         \u001b[0mloss\u001b[0m\u001b[0;34m,\u001b[0m \u001b[0mw\u001b[0m \u001b[0;34m=\u001b[0m \u001b[0mlearning_by_penalized_gradient\u001b[0m\u001b[0;34m(\u001b[0m\u001b[0my\u001b[0m\u001b[0;34m,\u001b[0m \u001b[0mtx\u001b[0m\u001b[0;34m,\u001b[0m \u001b[0mw\u001b[0m\u001b[0;34m,\u001b[0m \u001b[0mgamma\u001b[0m\u001b[0;34m,\u001b[0m \u001b[0mlambda_\u001b[0m\u001b[0;34m)\u001b[0m\u001b[0;34m\u001b[0m\u001b[0;34m\u001b[0m\u001b[0m\n\u001b[0m\u001b[1;32m    256\u001b[0m         \u001b[0;31m# log info\u001b[0m\u001b[0;34m\u001b[0m\u001b[0;34m\u001b[0m\u001b[0;34m\u001b[0m\u001b[0m\n\u001b[1;32m    257\u001b[0m         \u001b[0;32mif\u001b[0m \u001b[0miter\u001b[0m \u001b[0;34m%\u001b[0m \u001b[0;36m100\u001b[0m \u001b[0;34m==\u001b[0m \u001b[0;36m0\u001b[0m\u001b[0;34m:\u001b[0m\u001b[0;34m\u001b[0m\u001b[0;34m\u001b[0m\u001b[0m\n",
      "\u001b[0;32m~/Documents/EPFL/MLproject1/src/implementations.py\u001b[0m in \u001b[0;36mlearning_by_penalized_gradient\u001b[0;34m(y, tx, w, gamma, lambda_)\u001b[0m\n\u001b[1;32m     79\u001b[0m     \u001b[0mReturn\u001b[0m \u001b[0mthe\u001b[0m \u001b[0mloss\u001b[0m \u001b[0;32mand\u001b[0m \u001b[0mupdated\u001b[0m \u001b[0mw\u001b[0m\u001b[0;34m.\u001b[0m\u001b[0;34m\u001b[0m\u001b[0;34m\u001b[0m\u001b[0m\n\u001b[1;32m     80\u001b[0m     \"\"\"\n\u001b[0;32m---> 81\u001b[0;31m     \u001b[0mloss\u001b[0m\u001b[0;34m,\u001b[0m \u001b[0mgradient\u001b[0m \u001b[0;34m=\u001b[0m \u001b[0mpenalized_logistic_regression\u001b[0m\u001b[0;34m(\u001b[0m\u001b[0my\u001b[0m\u001b[0;34m,\u001b[0m \u001b[0mtx\u001b[0m\u001b[0;34m,\u001b[0m \u001b[0mw\u001b[0m\u001b[0;34m,\u001b[0m \u001b[0mlambda_\u001b[0m\u001b[0;34m)\u001b[0m\u001b[0;34m\u001b[0m\u001b[0;34m\u001b[0m\u001b[0m\n\u001b[0m\u001b[1;32m     82\u001b[0m     \u001b[0mw\u001b[0m \u001b[0;34m-=\u001b[0m \u001b[0mgamma\u001b[0m \u001b[0;34m*\u001b[0m \u001b[0mgradient\u001b[0m\u001b[0;34m\u001b[0m\u001b[0;34m\u001b[0m\u001b[0m\n\u001b[1;32m     83\u001b[0m     \u001b[0;32mreturn\u001b[0m \u001b[0mloss\u001b[0m\u001b[0;34m,\u001b[0m \u001b[0mw\u001b[0m\u001b[0;34m\u001b[0m\u001b[0;34m\u001b[0m\u001b[0m\n",
      "\u001b[0;32m~/Documents/EPFL/MLproject1/src/implementations.py\u001b[0m in \u001b[0;36mpenalized_logistic_regression\u001b[0;34m(y, tx, w, lambda_)\u001b[0m\n\u001b[1;32m     71\u001b[0m     \u001b[0mnum_samples\u001b[0m \u001b[0;34m=\u001b[0m \u001b[0my\u001b[0m\u001b[0;34m.\u001b[0m\u001b[0mshape\u001b[0m\u001b[0;34m[\u001b[0m\u001b[0;36m0\u001b[0m\u001b[0;34m]\u001b[0m\u001b[0;34m\u001b[0m\u001b[0;34m\u001b[0m\u001b[0m\n\u001b[1;32m     72\u001b[0m     \u001b[0mloss\u001b[0m \u001b[0;34m=\u001b[0m \u001b[0mcalculate_loss_log\u001b[0m\u001b[0;34m(\u001b[0m\u001b[0my\u001b[0m\u001b[0;34m,\u001b[0m \u001b[0mtx\u001b[0m\u001b[0;34m,\u001b[0m \u001b[0mw\u001b[0m\u001b[0;34m)\u001b[0m \u001b[0;34m+\u001b[0m \u001b[0mlambda_\u001b[0m \u001b[0;34m*\u001b[0m \u001b[0mnp\u001b[0m\u001b[0;34m.\u001b[0m\u001b[0msqueeze\u001b[0m\u001b[0;34m(\u001b[0m\u001b[0mw\u001b[0m\u001b[0;34m.\u001b[0m\u001b[0mT\u001b[0m\u001b[0;34m.\u001b[0m\u001b[0mdot\u001b[0m\u001b[0;34m(\u001b[0m\u001b[0mw\u001b[0m\u001b[0;34m)\u001b[0m\u001b[0;34m)\u001b[0m\u001b[0;34m\u001b[0m\u001b[0;34m\u001b[0m\u001b[0m\n\u001b[0;32m---> 73\u001b[0;31m     \u001b[0mgradient\u001b[0m \u001b[0;34m=\u001b[0m \u001b[0mcalculate_gradient_log\u001b[0m\u001b[0;34m(\u001b[0m\u001b[0my\u001b[0m\u001b[0;34m,\u001b[0m \u001b[0mtx\u001b[0m\u001b[0;34m,\u001b[0m \u001b[0mw\u001b[0m\u001b[0;34m)\u001b[0m \u001b[0;34m+\u001b[0m \u001b[0;36m2\u001b[0m \u001b[0;34m*\u001b[0m \u001b[0mlambda_\u001b[0m \u001b[0;34m*\u001b[0m \u001b[0mw\u001b[0m\u001b[0;34m\u001b[0m\u001b[0;34m\u001b[0m\u001b[0m\n\u001b[0m\u001b[1;32m     74\u001b[0m     \u001b[0;32mreturn\u001b[0m \u001b[0mloss\u001b[0m\u001b[0;34m,\u001b[0m \u001b[0mgradient\u001b[0m\u001b[0;34m\u001b[0m\u001b[0;34m\u001b[0m\u001b[0m\n\u001b[1;32m     75\u001b[0m \u001b[0;34m\u001b[0m\u001b[0m\n",
      "\u001b[0;32m~/Documents/EPFL/MLproject1/src/implementations.py\u001b[0m in \u001b[0;36mcalculate_gradient_log\u001b[0;34m(y, tx, w)\u001b[0m\n\u001b[1;32m     22\u001b[0m     \u001b[0;34m\"\"\"compute the gradient of loss.\"\"\"\u001b[0m\u001b[0;34m\u001b[0m\u001b[0;34m\u001b[0m\u001b[0m\n\u001b[1;32m     23\u001b[0m     \u001b[0mpred\u001b[0m \u001b[0;34m=\u001b[0m \u001b[0msigmoid\u001b[0m\u001b[0;34m(\u001b[0m\u001b[0mtx\u001b[0m\u001b[0;34m.\u001b[0m\u001b[0mdot\u001b[0m\u001b[0;34m(\u001b[0m\u001b[0mw\u001b[0m\u001b[0;34m)\u001b[0m\u001b[0;34m)\u001b[0m\u001b[0;34m\u001b[0m\u001b[0;34m\u001b[0m\u001b[0m\n\u001b[0;32m---> 24\u001b[0;31m     \u001b[0mgrad\u001b[0m \u001b[0;34m=\u001b[0m \u001b[0mtx\u001b[0m\u001b[0;34m.\u001b[0m\u001b[0mT\u001b[0m\u001b[0;34m.\u001b[0m\u001b[0mdot\u001b[0m\u001b[0;34m(\u001b[0m\u001b[0mpred\u001b[0m \u001b[0;34m-\u001b[0m \u001b[0my\u001b[0m\u001b[0;34m)\u001b[0m\u001b[0;34m\u001b[0m\u001b[0;34m\u001b[0m\u001b[0m\n\u001b[0m\u001b[1;32m     25\u001b[0m     \u001b[0;32mreturn\u001b[0m \u001b[0mgrad\u001b[0m\u001b[0;34m\u001b[0m\u001b[0;34m\u001b[0m\u001b[0m\n\u001b[1;32m     26\u001b[0m \u001b[0;34m\u001b[0m\u001b[0m\n",
      "\u001b[0;31mKeyboardInterrupt\u001b[0m: "
     ]
    }
   ],
   "source": [
    "ws = []\n",
    "losses = []\n",
    "\n",
    "#Gridsearch for lambda_\n",
    "w = np.zeros(X_train.shape[1])\n",
    "gammas = [0.01,0.1,0.2]\n",
    "lambdas_ = [0.0001,0.001,0.01, 0.05,0.1, 0.2, 0.5, 1]\n",
    "for l in lambdas_:\n",
    "    for g in gammas:\n",
    "        w, loss = reg_logistic_regression(y_train, X_train, l,w,100,g)\n",
    "        ws.append(w)\n",
    "        losses.append(loss)\n"
   ]
  },
  {
   "cell_type": "code",
   "execution_count": 56,
   "metadata": {},
   "outputs": [],
   "source": [
    "_, tX_test, ids_test = load_csv_data(DATA_TEST_PATH)\n",
    "\n",
    "# Treat test day the same way we treat traim\n",
    "_, tX_test = preprocessing(tX, tX_test)\n",
    "\n",
    "weights = ws[0]\n",
    "y_pred = predict_labels(weights, tX_test,1)\n",
    "create_csv_submission(ids_test, y_pred, OUTPUT_PATH)"
   ]
  },
  {
   "cell_type": "markdown",
   "metadata": {},
   "source": [
    "## Missing\n",
    "* Cross validation for hyperparameters "
   ]
  }
 ],
 "metadata": {
  "kernelspec": {
   "display_name": "Python 3",
   "language": "python",
   "name": "python3"
  },
  "language_info": {
   "codemirror_mode": {
    "name": "ipython",
    "version": 3
   },
   "file_extension": ".py",
   "mimetype": "text/x-python",
   "name": "python",
   "nbconvert_exporter": "python",
   "pygments_lexer": "ipython3",
   "version": "3.8.5"
  }
 },
 "nbformat": 4,
 "nbformat_minor": 4
}
