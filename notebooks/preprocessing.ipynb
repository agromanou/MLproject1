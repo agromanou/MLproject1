{
 "cells": [
  {
   "cell_type": "code",
   "execution_count": 1,
   "metadata": {},
   "outputs": [
    {
     "name": "stdout",
     "output_type": "stream",
     "text": [
      "The autoreload extension is already loaded. To reload it, use:\n",
      "  %reload_ext autoreload\n"
     ]
    }
   ],
   "source": [
    "# Useful starting lines\n",
    "%matplotlib inline\n",
    "import numpy as np\n",
    "import matplotlib.pyplot as plt\n",
    "%load_ext autoreload\n",
    "%autoreload 2\n",
    "\n",
    "import sys\n",
    "sys.path.append('./../src/')\n",
    "%load_ext autoreload\n",
    "%autoreload 2"
   ]
  },
  {
   "cell_type": "code",
   "execution_count": 2,
   "metadata": {},
   "outputs": [],
   "source": [
    "from implementations import *\n",
    "from utils import *\n",
    "from pipeline import * \n",
    "from proj1_helpers import * "
   ]
  },
  {
   "cell_type": "code",
   "execution_count": 3,
   "metadata": {},
   "outputs": [],
   "source": [
    "# PATHS\n",
    "DATA_TRAIN_PATH = \"./../data/train.csv\"\n",
    "DATA_TEST_PATH = \"./../data/test.csv\" "
   ]
  },
  {
   "cell_type": "code",
   "execution_count": 4,
   "metadata": {},
   "outputs": [],
   "source": [
    "y, tX, ids = load_csv_data(DATA_TRAIN_PATH)"
   ]
  },
  {
   "cell_type": "code",
   "execution_count": 5,
   "metadata": {},
   "outputs": [
    {
     "data": {
      "text/plain": [
       "(250000, 30)"
      ]
     },
     "execution_count": 5,
     "metadata": {},
     "output_type": "execute_result"
    }
   ],
   "source": [
    "tX.shape"
   ]
  },
  {
   "cell_type": "code",
   "execution_count": 6,
   "metadata": {},
   "outputs": [],
   "source": [
    "col_names = ['DER_mass_MMC', 'DER_mass_transverse_met_lep',\n",
    "       'DER_mass_vis', 'DER_pt_h', 'DER_deltaeta_jet_jet', 'DER_mass_jet_jet',\n",
    "       'DER_prodeta_jet_jet', 'DER_deltar_tau_lep', 'DER_pt_tot', 'DER_sum_pt',\n",
    "       'DER_pt_ratio_lep_tau', 'DER_met_phi_centrality',\n",
    "       'DER_lep_eta_centrality', 'PRI_tau_pt', 'PRI_tau_eta', 'PRI_tau_phi',\n",
    "       'PRI_lep_pt', 'PRI_lep_eta', 'PRI_lep_phi', 'PRI_met', 'PRI_met_phi',\n",
    "       'PRI_met_sumet', 'PRI_jet_num', 'PRI_jet_leading_pt',\n",
    "       'PRI_jet_leading_eta', 'PRI_jet_leading_phi', 'PRI_jet_subleading_pt',\n",
    "       'PRI_jet_subleading_eta', 'PRI_jet_subleading_phi', 'PRI_jet_all_pt']"
   ]
  },
  {
   "cell_type": "code",
   "execution_count": 7,
   "metadata": {},
   "outputs": [],
   "source": [
    "values = list(range(len(col_names)))"
   ]
  },
  {
   "cell_type": "code",
   "execution_count": 8,
   "metadata": {},
   "outputs": [],
   "source": [
    "col_dict = dict(zip(col_names, values))\n",
    "inverse_col_dict = dict(zip(values, col_names))"
   ]
  },
  {
   "cell_type": "code",
   "execution_count": 9,
   "metadata": {},
   "outputs": [
    {
     "data": {
      "text/plain": [
       "array([2., 1., 1., ..., 1., 0., 0.])"
      ]
     },
     "execution_count": 9,
     "metadata": {},
     "output_type": "execute_result"
    }
   ],
   "source": [
    "tX[:, col_dict[\"PRI_jet_num\"]]"
   ]
  },
  {
   "cell_type": "code",
   "execution_count": 10,
   "metadata": {},
   "outputs": [
    {
     "data": {
      "text/plain": [
       "(array([0., 1., 2., 3.]), array([99913, 77544, 50379, 22164]))"
      ]
     },
     "execution_count": 10,
     "metadata": {},
     "output_type": "execute_result"
    }
   ],
   "source": [
    "np.unique(tX[:, col_dict[\"PRI_jet_num\"]], return_counts=True)"
   ]
  },
  {
   "cell_type": "code",
   "execution_count": 11,
   "metadata": {},
   "outputs": [],
   "source": [
    "def split_data(y, tX, ids, jet_num):\n",
    "    \"\"\"\n",
    "    Splits the given data set such that only the data points with a certain \n",
    "    jet number remains, where jet number is a discrete valued feature. In\n",
    "    other words, filters the data set using the jet number.\n",
    "    Args: \n",
    "        y: a numpy array representing the given labels\n",
    "        tx: a numpy array representing the given features\n",
    "        ids: a numpy array representing the ids of the data points\n",
    "        jet_num: the certain value of the discrete feature jet number\n",
    "    Returns:\n",
    "        y_masked: numpy array of labels of data points having the specified jet number\n",
    "        tx_masked: numpy array of features of data points having the specified jet number\n",
    "        ids_masked: numpy array of ids of data points having the specified jet number\n",
    "    \"\"\"\n",
    "    mask = tX[:, 22] == jet_num\n",
    "    return y[mask], tX[mask], ids[mask]"
   ]
  },
  {
   "cell_type": "markdown",
   "metadata": {},
   "source": [
    "# Jet 0 processing"
   ]
  },
  {
   "cell_type": "markdown",
   "metadata": {},
   "source": [
    "## Filter useless columns"
   ]
  },
  {
   "cell_type": "code",
   "execution_count": 12,
   "metadata": {},
   "outputs": [],
   "source": [
    "y0, tX0, ids0 = split_data(y, tX, ids, 0)"
   ]
  },
  {
   "cell_type": "code",
   "execution_count": 13,
   "metadata": {},
   "outputs": [
    {
     "data": {
      "text/plain": [
       "(99913, 30)"
      ]
     },
     "execution_count": 13,
     "metadata": {},
     "output_type": "execute_result"
    }
   ],
   "source": [
    "tX0.shape"
   ]
  },
  {
   "cell_type": "code",
   "execution_count": 14,
   "metadata": {},
   "outputs": [],
   "source": [
    "dummy_cols = []\n",
    "for i in range(tX0.shape[1]):\n",
    "    col = tX0[:, i]\n",
    "    if len(np.unique(col)) == 1 and col[0] == -999.:\n",
    "        dummy_cols.append(i)"
   ]
  },
  {
   "cell_type": "code",
   "execution_count": 15,
   "metadata": {},
   "outputs": [
    {
     "data": {
      "text/plain": [
       "[4, 5, 6, 12, 23, 24, 25, 26, 27, 28]"
      ]
     },
     "execution_count": 15,
     "metadata": {},
     "output_type": "execute_result"
    }
   ],
   "source": [
    "dummy_cols"
   ]
  },
  {
   "cell_type": "code",
   "execution_count": 16,
   "metadata": {},
   "outputs": [
    {
     "name": "stdout",
     "output_type": "stream",
     "text": [
      "0\n",
      "0\n",
      "0\n",
      "0\n",
      "0\n",
      "0\n",
      "0\n",
      "0\n",
      "0\n",
      "0\n"
     ]
    }
   ],
   "source": [
    "for i in range(len(dummy_cols)):\n",
    "    l = tX0[:, dummy_cols[i]]\n",
    "    print(len(l) - len(l[l==-999.]))"
   ]
  },
  {
   "cell_type": "code",
   "execution_count": 17,
   "metadata": {},
   "outputs": [],
   "source": [
    "tX0 = np.delete(tX0, dummy_cols, 1)"
   ]
  },
  {
   "cell_type": "code",
   "execution_count": 18,
   "metadata": {},
   "outputs": [
    {
     "data": {
      "text/plain": [
       "(99913, 20)"
      ]
     },
     "execution_count": 18,
     "metadata": {},
     "output_type": "execute_result"
    }
   ],
   "source": [
    "tX0.shape"
   ]
  },
  {
   "cell_type": "markdown",
   "metadata": {},
   "source": [
    "## Fillna"
   ]
  },
  {
   "cell_type": "code",
   "execution_count": 19,
   "metadata": {},
   "outputs": [
    {
     "data": {
      "text/plain": [
       "0"
      ]
     },
     "execution_count": 19,
     "metadata": {},
     "output_type": "execute_result"
    }
   ],
   "source": [
    "np.isnan(tX0).sum(axis = 1).sum()"
   ]
  },
  {
   "cell_type": "code",
   "execution_count": 20,
   "metadata": {},
   "outputs": [],
   "source": [
    "col1 = tX0[:, 0]"
   ]
  },
  {
   "cell_type": "code",
   "execution_count": 21,
   "metadata": {},
   "outputs": [
    {
     "data": {
      "text/plain": [
       "(array([    3,     5,     8, ..., 99909, 99910, 99912]),)"
      ]
     },
     "execution_count": 21,
     "metadata": {},
     "output_type": "execute_result"
    }
   ],
   "source": [
    "np.where(tX0[:, 0] == -999.0)"
   ]
  },
  {
   "cell_type": "code",
   "execution_count": 22,
   "metadata": {},
   "outputs": [
    {
     "data": {
      "text/plain": [
       "array([ 143.905,  175.864,  105.594, -999.   ,   82.488, -999.   ])"
      ]
     },
     "execution_count": 22,
     "metadata": {},
     "output_type": "execute_result"
    }
   ],
   "source": [
    "tX0[:6, 0]"
   ]
  },
  {
   "cell_type": "code",
   "execution_count": 23,
   "metadata": {},
   "outputs": [],
   "source": [
    "col1[np.where(tX0[:, 0] == -999.0)] = np.nan"
   ]
  },
  {
   "cell_type": "code",
   "execution_count": 24,
   "metadata": {},
   "outputs": [
    {
     "data": {
      "text/plain": [
       "array([143.905, 175.864, 105.594,     nan,  82.488,     nan])"
      ]
     },
     "execution_count": 24,
     "metadata": {},
     "output_type": "execute_result"
    }
   ],
   "source": [
    "col1[:6]"
   ]
  },
  {
   "cell_type": "code",
   "execution_count": 25,
   "metadata": {},
   "outputs": [],
   "source": [
    "def transform(tX, col_mean, col_std):\n",
    "    # Standardize\n",
    "    tX = (tX - col_mean)/col_std\n",
    "\n",
    "    # Replaces missings with mean\n",
    "    inds = np.where(np.isnan(tX))\n",
    "    tX[inds] = np.take(col_mean, inds[1])\n",
    "\n",
    "    # Creates dummies for imputed values\n",
    "    tX_imputed = np.zeros((tX.shape[0],tX.shape[1]))\n",
    "    array_one = np.ones(tX.shape[1])\n",
    "    tX_imputed[inds] = np.take(array_one, inds[1])\n",
    "\n",
    "    # Concatenates imputed dummies with variables\n",
    "    #tX_clean = np.hstack((tX, tX_imputed))\n",
    "    return tX\n",
    "\n",
    "\n",
    "def preprocessing(tX):\n",
    "    '''\n",
    "    Fit and transform both datasets\n",
    "    '''\n",
    "    #missing data\n",
    "    tX = np.where(tX == -999, np.NaN, tX)\n",
    "\n",
    "    # Our own transformer. fit\n",
    "    col_mean = np.nanmean(tX, axis=0)\n",
    "    col_std = np.nanstd(tX, axis=0)\n",
    "\n",
    "    tX_clean = transform(tX, col_mean, col_std)\n",
    "\n",
    "    return tX_clean"
   ]
  },
  {
   "cell_type": "code",
   "execution_count": 33,
   "metadata": {},
   "outputs": [
    {
     "name": "stderr",
     "output_type": "stream",
     "text": [
      "/Users/gfotiadis/anaconda3/lib/python3.7/site-packages/ipykernel_launcher.py:3: RuntimeWarning: invalid value encountered in true_divide\n",
      "  This is separate from the ipykernel package so we can avoid doing imports until\n"
     ]
    }
   ],
   "source": [
    "tX0_clean = preprocessing(tX0)"
   ]
  },
  {
   "cell_type": "code",
   "execution_count": 34,
   "metadata": {},
   "outputs": [
    {
     "data": {
      "text/plain": [
       "array([[ 4.49033352e-01,  7.07136352e-01, -2.43749845e-02, ...,\n",
       "        -7.49699713e-01,  0.00000000e+00,  0.00000000e+00],\n",
       "       [ 1.06660202e+00, -1.30833757e+00,  1.39142614e+00, ...,\n",
       "        -1.37002885e+00,  0.00000000e+00,  0.00000000e+00],\n",
       "       [-2.91279963e-01, -2.57073972e-01,  5.02548436e-01, ...,\n",
       "         7.42788213e-02,  0.00000000e+00,  0.00000000e+00],\n",
       "       ...,\n",
       "       [ 1.20667654e+02, -1.89742027e-02, -3.62409265e-01, ...,\n",
       "        -8.56205465e-01,  0.00000000e+00,  0.00000000e+00],\n",
       "       [-4.96942947e-01, -1.23187692e+00, -3.43246979e-01, ...,\n",
       "        -2.47574254e-01,  0.00000000e+00,  0.00000000e+00],\n",
       "       [ 1.20667654e+02,  4.36508780e-01, -2.90176123e-01, ...,\n",
       "        -4.98354425e-01,  0.00000000e+00,  0.00000000e+00]])"
      ]
     },
     "execution_count": 34,
     "metadata": {},
     "output_type": "execute_result"
    }
   ],
   "source": [
    "tX0_clean"
   ]
  },
  {
   "cell_type": "code",
   "execution_count": null,
   "metadata": {
    "jupyter": {
     "source_hidden": true
    }
   },
   "outputs": [],
   "source": []
  },
  {
   "cell_type": "code",
   "execution_count": null,
   "metadata": {},
   "outputs": [],
   "source": []
  },
  {
   "cell_type": "code",
   "execution_count": 35,
   "metadata": {},
   "outputs": [],
   "source": [
    "for i in range(tX0_clean.shape[1])[:2]:\n",
    "    col = tX0_clean[:, i]\n",
    "    col_mean = np.mean(col)\n",
    "    col_std = np.std(col)\n",
    "    \n",
    "    upper_lim = col_mean + 2 * col_std\n",
    "    lower_lim = col_mean - 2 * col_std\n",
    "    \n",
    "    big_outliers = np.where(col > upper_lim)\n",
    "    small_outliers = np.where(col < lower_lim)\n",
    "\n",
    "    col[big_outliers] = upper_lim\n",
    "    col[small_outliers] = lower_lim"
   ]
  },
  {
   "cell_type": "code",
   "execution_count": 36,
   "metadata": {},
   "outputs": [
    {
     "data": {
      "text/plain": [
       "array([[ 4.49033352e-01,  7.07136352e-01, -2.43749845e-02, ...,\n",
       "        -7.49699713e-01,  0.00000000e+00,  0.00000000e+00],\n",
       "       [ 1.06660202e+00, -1.30833757e+00,  1.39142614e+00, ...,\n",
       "        -1.37002885e+00,  0.00000000e+00,  0.00000000e+00],\n",
       "       [-2.91279963e-01, -2.57073972e-01,  5.02548436e-01, ...,\n",
       "         7.42788213e-02,  0.00000000e+00,  0.00000000e+00],\n",
       "       ...,\n",
       "       [ 1.20667654e+02, -1.89742027e-02, -3.62409265e-01, ...,\n",
       "        -8.56205465e-01,  0.00000000e+00,  0.00000000e+00],\n",
       "       [-4.96942947e-01, -1.23187692e+00, -3.43246979e-01, ...,\n",
       "        -2.47574254e-01,  0.00000000e+00,  0.00000000e+00],\n",
       "       [ 1.20667654e+02,  4.36508780e-01, -2.90176123e-01, ...,\n",
       "        -4.98354425e-01,  0.00000000e+00,  0.00000000e+00]])"
      ]
     },
     "execution_count": 36,
     "metadata": {},
     "output_type": "execute_result"
    }
   ],
   "source": [
    "tX0_clean"
   ]
  },
  {
   "cell_type": "code",
   "execution_count": null,
   "metadata": {},
   "outputs": [],
   "source": []
  },
  {
   "cell_type": "code",
   "execution_count": null,
   "metadata": {},
   "outputs": [],
   "source": []
  }
 ],
 "metadata": {
  "kernelspec": {
   "display_name": "Python 3",
   "language": "python",
   "name": "python3"
  },
  "language_info": {
   "codemirror_mode": {
    "name": "ipython",
    "version": 3
   },
   "file_extension": ".py",
   "mimetype": "text/x-python",
   "name": "python",
   "nbconvert_exporter": "python",
   "pygments_lexer": "ipython3",
   "version": "3.7.9"
  }
 },
 "nbformat": 4,
 "nbformat_minor": 4
}
